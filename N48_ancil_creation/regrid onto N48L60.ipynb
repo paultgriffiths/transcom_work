{
 "cells": [
  {
   "cell_type": "code",
   "execution_count": 1,
   "metadata": {
    "collapsed": true
   },
   "outputs": [],
   "source": [
    "from matplotlib import pyplot as plt\n",
    "from mpl_toolkits.basemap import Basemap, shiftgrid, cm\n",
    "import pandas as pd\n",
    "import numpy as np\n",
    "import netCDF4\n",
    "from matplotlib.ticker import MultipleLocator\n",
    "from scipy.interpolate import *"
   ]
  },
  {
   "cell_type": "code",
   "execution_count": 2,
   "metadata": {
    "collapsed": true
   },
   "outputs": [],
   "source": [
    "%matplotlib inline"
   ]
  },
  {
   "cell_type": "code",
   "execution_count": 4,
   "metadata": {
    "collapsed": true
   },
   "outputs": [],
   "source": [
    "# get file containing heights, pressures for L85 ancil\n",
    "filename='/Users/ptg21/data/projects/Blowsea/ancil_creation/N48_L60_aircraft_ems.nc'\n",
    "ncfile2     = netCDF4.Dataset(filename)\n",
    "\n",
    "lon2        = ncfile2.variables['longitude'][:]\n",
    "lat2        = ncfile2.variables['latitude'][:]\n",
    "hybrid_ht   = ncfile2.variables['hybrid_ht'][:]\n",
    "times2      = ncfile2.variables['t']\n",
    "tracer20    = ncfile2.variables['tracer20']\n",
    "nmonths2, nheights, ny2, nx2 = np.shape(tracer20)"
   ]
  },
  {
   "cell_type": "code",
   "execution_count": 5,
   "metadata": {
    "collapsed": false
   },
   "outputs": [],
   "source": [
    "# get file containing heights, pressures for L85 ancil\n",
    "filename='/Users/ptg21/data/projects/Blowsea/ancil_creation/xjcira.p.nc'\n",
    "ncfile3     = netCDF4.Dataset(filename)\n",
    "\n",
    "lon3        = ncfile3.variables['longitude'][:]\n",
    "lat3        = ncfile3.variables['latitude'][:]\n",
    "hybrid_ht3  = ncfile3.variables['hybrid_ht'][:]\n",
    "times3      = ncfile3.variables['t']\n",
    "pressure    = ncfile3.variables['p']\n",
    "nmonths3, nheights3, ny3, nx3 = np.shape(pressure)"
   ]
  },
  {
   "cell_type": "code",
   "execution_count": 17,
   "metadata": {
    "collapsed": false
   },
   "outputs": [
    {
     "data": {
      "image/png": "[encoded data removed]",
      "text/plain": [
       "<matplotlib.figure.Figure at 0x10a052e50>"
      ]
     },
     "metadata": {},
     "output_type": "display_data"
    }
   ],
   "source": [
    "# test that are on same height grid\n",
    "plt.plot(hybrid_ht)\n",
    "\n",
    "plt.plot(hybrid_ht3, lw=8, alpha=0.4)\n",
    "plt.plot(hybrid_ht3, 'o', markersize=1.2)\n",
    "plt.show()"
   ]
  },
  {
   "cell_type": "code",
   "execution_count": 7,
   "metadata": {
    "collapsed": false
   },
   "outputs": [
    {
     "data": {
      "text/plain": [
       "(60,)"
      ]
     },
     "execution_count": 7,
     "metadata": {},
     "output_type": "execute_result"
    }
   ],
   "source": [
    "np.shape(hybrid_ht3)"
   ]
  },
  {
   "cell_type": "code",
   "execution_count": null,
   "metadata": {
    "collapsed": true
   },
   "outputs": [],
   "source": []
  }
 ],
 "metadata": {
  "kernelspec": {
   "display_name": "Python 2",
   "language": "python",
   "name": "python2"
  },
  "language_info": {
   "codemirror_mode": {
    "name": "ipython",
    "version": 2
   },
   "file_extension": ".py",
   "mimetype": "text/x-python",
   "name": "python",
   "nbconvert_exporter": "python",
   "pygments_lexer": "ipython2",
   "version": "2.7.9"
  }
 },
 "nbformat": 4,
 "nbformat_minor": 0
}
