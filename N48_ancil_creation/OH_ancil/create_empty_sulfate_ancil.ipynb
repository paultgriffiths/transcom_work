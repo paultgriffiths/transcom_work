{
 "cells": [
  {
   "cell_type": "code",
   "execution_count": 2,
   "metadata": {
    "collapsed": false
   },
   "outputs": [
    {
     "name": "stdout",
     "output_type": "stream",
     "text": [
      "The vimception extension is already loaded. To reload it, use:\n",
      "  %reload_ext vimception\n"
     ]
    }
   ],
   "source": [
    "%load_ext vimception"
   ]
  },
  {
   "cell_type": "code",
   "execution_count": 1,
   "metadata": {
    "collapsed": false
   },
   "outputs": [
    {
     "data": {
      "text/html": [
       "<style>\n",
       "    div.cell{\n",
       "        width:100%;\n",
       "        margin-left:1%;\n",
       "        margin-right:auto;\n",
       "    }\n",
       "</style>\n"
      ],
      "text/plain": [
       "<IPython.core.display.HTML object>"
      ]
     },
     "execution_count": 1,
     "metadata": {},
     "output_type": "execute_result"
    }
   ],
   "source": [
    "from IPython.core.display import HTML\n",
    "def css_styling():\n",
    "    styles = open(\"custom.css\", \"r\").read()\n",
    "    return HTML(styles)\n",
    "css_styling()\n"
   ]
  },
  {
   "cell_type": "code",
   "execution_count": 2,
   "metadata": {
    "collapsed": false
   },
   "outputs": [],
   "source": [
    "from matplotlib import pyplot as plt\n",
    "from mpl_toolkits.basemap import Basemap, shiftgrid, cm\n",
    "import pandas as pd\n",
    "import numpy as np\n",
    "import netCDF4\n",
    "from matplotlib.ticker import MultipleLocator\n",
    "from scipy.interpolate import *"
   ]
  },
  {
   "cell_type": "code",
   "execution_count": 6,
   "metadata": {
    "collapsed": false
   },
   "outputs": [],
   "source": [
    "# get file containing heights, pressures for L85 ancil\n",
    "filename='/Users/ptg21/data/projects/Blowsea/ancil_creation/N48_L60_aircraft_ems.nc'\n",
    "ncfile2     = netCDF4.Dataset(filename)\n",
    "\n",
    "lon2        = ncfile2.variables['longitude'][:]\n",
    "lat2        = ncfile2.variables['latitude'][:]\n",
    "hybrid_ht        = ncfile2.variables['hybrid_ht'][:]\n",
    "nheights    = len(hybrid_ht)\n",
    "times2      = ncfile2.variables['t']\n",
    "tracer20    = ncfile2.variables['tracer20']\n",
    "nmonths2, nheights, ny2, nx2 = np.shape(tracer20)\n"
   ]
  },
  {
   "cell_type": "code",
   "execution_count": 10,
   "metadata": {
    "collapsed": false
   },
   "outputs": [],
   "source": [
    "%%bash\n",
    "rm -Rf empty_N48_L60_OH.nc"
   ]
  },
  {
   "cell_type": "code",
   "execution_count": 9,
   "metadata": {
    "collapsed": false
   },
   "outputs": [
    {
     "name": "stdout",
     "output_type": "stream",
     "text": [
      "success\n"
     ]
    }
   ],
   "source": [
    "# to be fixed\n",
    "\n",
    "from netCDF4 import Dataset\n",
    "import time\n",
    "# Create HDF5 *format*, classic *model*\n",
    "dataset = Dataset('empty_N48_L60_OH.nc', 'w', format='NETCDF4')\n",
    "\n",
    "# Global Attributes\n",
    "dataset.description = 'TEST NETCDF-CF COMPLIANT SCRIPT'\n",
    "dataset.history = 'Created ' + time.ctime(time.time())\n",
    "dataset.source = ''\n",
    "dataset.Conventions = 'CF-1.0'\n",
    "dataset.standard_name_vocabulary='CF-1.0'\n",
    "\n",
    "height = dataset.createDimension('hybrid_ht', nheights)\n",
    "height = dataset.createVariable('hybrid_ht',  np.int32,   ('hybrid_ht',))\n",
    "\n",
    "time  = dataset.createDimension('time',      None)\n",
    "time  = dataset.createVariable('time',       'f8', ('time',)) # or can use np as below\n",
    "\n",
    "lat   = dataset.createDimension('latitude',  ny2)\n",
    "lat   = dataset.createVariable('latitude',   np.float32, ('latitude',))\n",
    "\n",
    "lon   = dataset.createDimension('longitude', nx2)\n",
    "lon   = dataset.createVariable('longitude',  np.float32, ('longitude',))\n",
    "\n",
    "OH         = dataset.createVariable('oh', np.float32, ('time','hybrid_ht','latitude', 'longitude',))\n",
    "\n",
    "lon[:]   = lon2[:]\n",
    "lat[:]   = lat2[:]\n",
    "height[:] = hybrid_ht[:]\n",
    "time[:]  = times2[:]\n",
    "\n",
    "OH[:,:,:,:] = 0.\n",
    "\n",
    "# Variable Attributes\n",
    "lat.standard_name = 'latitude'\n",
    "lat.units = 'degrees_north'\n",
    "lat.cartesian_axis = \"Y\"\n",
    "lat.axis = 'Y'\n",
    "lat.actual_range = -90.0, 90.0\n",
    "\n",
    "lon.standard_name = 'longitude'\n",
    "lon.units = 'degrees_east'\n",
    "lon.cartesian_axis = \"X\"\n",
    "lon.axis = \"X\"\n",
    "lat.actual_range = 0.0, 360.0\n",
    "\n",
    "OH.units = 'molecules / cm-3'\n",
    "OH.standard_name='OH_mixing_ratio'\n",
    "\n",
    "height.units = 'm'\n",
    "height.axis='Z'\n",
    "height.positive='up'\n",
    "height.standard_name = 'hybrid_pressure_levels'\n",
    "\n",
    "\n",
    "time.standard_name = 'time'\n",
    "time.long_name = 'time'\n",
    "time.units = 'days since 1999-12-01 00:00:00'\n",
    "time.calendar = '360_day'\n",
    "time.axis = 'T'\n",
    "print ('success')\n",
    "dataset.close()"
   ]
  },
  {
   "cell_type": "code",
   "execution_count": null,
   "metadata": {
    "collapsed": false
   },
   "outputs": [],
   "source": []
  }
 ],
 "metadata": {
  "kernelspec": {
   "display_name": "Python 2",
   "language": "python",
   "name": "python2"
  },
  "language_info": {
   "codemirror_mode": {
    "name": "ipython",
    "version": 2
   },
   "file_extension": ".py",
   "mimetype": "text/x-python",
   "name": "python",
   "nbconvert_exporter": "python",
   "pygments_lexer": "ipython2",
   "version": "2.7.9"
  }
 },
 "nbformat": 4,
 "nbformat_minor": 0
}
