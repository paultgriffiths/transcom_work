{
 "cells": [
  {
   "cell_type": "code",
   "execution_count": 3,
   "metadata": {
    "collapsed": true
   },
   "outputs": [],
   "source": [
    "from matplotlib import pyplot as plt\n",
    "from mpl_toolkits.basemap import Basemap, shiftgrid, cm\n",
    "import matplotlib as mpl\n",
    "import pandas as pd\n",
    "import pylab as P\n",
    "import numpy as np\n",
    "import netCDF4\n",
    "from matplotlib.ticker import MultipleLocator\n",
    "from scipy.interpolate import *"
   ]
  },
  {
   "cell_type": "code",
   "execution_count": 46,
   "metadata": {
    "collapsed": false
   },
   "outputs": [],
   "source": [
    "filename='/Users/ptg21/data/projects/TRANSCOM/ancil_creation/ch2br2_emissions/318.nc'\n",
    "ncfile1     = netCDF4.Dataset(filename)\n",
    "lona        = ncfile1.variables['longitude'][:]\n",
    "lata        = ncfile1.variables['latitude'][:]\n",
    "timesa      = ncfile1.variables['TIME'][:]\n",
    "\n",
    "\n",
    "CH2Br2      = ncfile1.variables['CH2BR2'][:,:,:]\n",
    "\n",
    "nmonths, ny1, nx1 = np.shape(CH2Br2)"
   ]
  },
  {
   "cell_type": "code",
   "execution_count": 48,
   "metadata": {
    "collapsed": false
   },
   "outputs": [],
   "source": [
    "for imonth in range(0, nmonths):\n",
    "    for ilat in range(0,ny1):\n",
    "        for ilon in range (0, nx1):\n",
    "            if CH2Br2[imonth, ilat, ilon] < 0. :\n",
    "                CH2Br2[imonth, ilat, ilon] = 0. "
   ]
  },
  {
   "cell_type": "code",
   "execution_count": 53,
   "metadata": {
    "collapsed": true
   },
   "outputs": [],
   "source": [
    "%%bash\n",
    "rm -Rf field_318_mod.nc"
   ]
  },
  {
   "cell_type": "code",
   "execution_count": 54,
   "metadata": {
    "collapsed": false
   },
   "outputs": [
    {
     "name": "stdout",
     "output_type": "stream",
     "text": [
      "success\n"
     ]
    }
   ],
   "source": [
    "from netCDF4 import Dataset\n",
    "import time\n",
    "# Create HDF5 *format*, classic *model*\n",
    "dataset = Dataset('field_318_mod.nc', 'w', format='NETCDF4')\n",
    "\n",
    "# Global Attributes\n",
    "dataset.description = 'TEST NETCDF-CF COMPLIANT SCRIPT'\n",
    "dataset.history = 'Created ' + time.ctime(time.time())\n",
    "dataset.source = ''\n",
    "dataset.Conventions = 'CF-1.0'\n",
    "dataset.standard_name_vocabulary='CF-1.0'\n",
    "\n",
    "time  = dataset.createDimension('time',      None)\n",
    "time  = dataset.createVariable('time',       'f8', ('time',)) # or can use np as below\n",
    "\n",
    "lat   = dataset.createDimension('latitude',  ny1)\n",
    "lat   = dataset.createVariable('latitude',   np.float32, ('latitude',))\n",
    "\n",
    "lon   = dataset.createDimension('longitude', nx1)\n",
    "lon   = dataset.createVariable('longitude',  np.float32, ('longitude',))\n",
    "\n",
    "field316_out = dataset.createVariable('field316', np.float32, ('time', 'latitude', 'longitude',))\n",
    "\n",
    "lon[:]   = lona[:]\n",
    "lat[:]   = lata[:]\n",
    "time[:]  = timesa[:]\n",
    "field316_out[:,:,:] = CH2Br2[:]\n",
    "\n",
    "\n",
    "# Variable Attributes\n",
    "lat.standard_name = 'latitude'\n",
    "lat.units = 'degrees_north'\n",
    "lat.cartesian_axis = \"Y\"\n",
    "lat.axis = 'Y'\n",
    "lat.actual_range = -90.0, 90.0\n",
    "\n",
    "lon.standard_name = 'longitude'\n",
    "lon.units = 'degrees_east'\n",
    "lon.cartesian_axis = \"X\"\n",
    "lon.axis = \"X\"\n",
    "lat.actual_range = 0.0, 360.0\n",
    "\n",
    "field316_out.units = 'emissions'\n",
    "field316_out.standard_name='emissions'\n",
    "field316_out.source = \"Unified Model Output (Vn 6.1):\" \n",
    "field316_out.long_name = \"Stash code = 316\" \n",
    "field316_out.units = \" \" \n",
    "field316_out.missing_value = 2.e+20\n",
    "field316_out.FillValue = 2.e+20 \n",
    "field316_out.valid_min = 0.\n",
    "\n",
    "time.standard_name = 'time'\n",
    "time.long_name = 'time'\n",
    "time.units = 'days since 1999-12-01 00:00:00'\n",
    "time.calendar = '360_day'\n",
    "time.axis = 'T'\n",
    "print ('success')\n",
    "dataset.close()"
   ]
  },
  {
   "cell_type": "code",
   "execution_count": 34,
   "metadata": {
    "collapsed": false
   },
   "outputs": [
    {
     "data": {
      "text/plain": [
       "OrderedDict([(u'longitude', <netCDF4.Variable object at 0x108e1f478>), (u'latitude', <netCDF4.Variable object at 0x108e1f3e0>), (u'TIME', <netCDF4.Variable object at 0x108e1f510>), (u'CH2BR2', <netCDF4.Variable object at 0x108e1f348>)])"
      ]
     },
     "execution_count": 34,
     "metadata": {},
     "output_type": "execute_result"
    }
   ],
   "source": [
    "ncfile1.variables"
   ]
  },
  {
   "cell_type": "code",
   "execution_count": null,
   "metadata": {
    "collapsed": true
   },
   "outputs": [],
   "source": [
    "# to be fixed\n",
    "\n",
    "from netCDF4 import Dataset\n",
    "import time\n",
    "# Create HDF5 *format*, classic *model*\n",
    "dataset = Dataset('test.nc', 'w', format='NETCDF4')\n",
    "\n",
    "# Global Attributes\n",
    "dataset.description = 'TEST NETCDF-CF COMPLIANT SCRIPT'\n",
    "dataset.history = 'Created ' + time.ctime(time.time())\n",
    "dataset.source = ''\n",
    "dataset.Conventions = 'CF-1.0'\n",
    "dataset.standard_name_vocabulary='CF-1.0'\n",
    "\n",
    "level = dataset.createDimension('level', nz3)\n",
    "boundaries = dataset.createDimension('boundary', nz3+1)\n",
    "\n",
    "time  = dataset.createDimension('time',      None)\n",
    "time  = dataset.createVariable('time',       'f8', ('time',)) # or can use np as below\n",
    "\n",
    "lat   = dataset.createDimension('latitude',  ny3)\n",
    "lat   = dataset.createVariable('latitude',   np.float32, ('latitude',))\n",
    "\n",
    "lon   = dataset.createDimension('longitude', nx3)\n",
    "lon   = dataset.createVariable('longitude',  np.float32, ('longitude',))\n",
    "\n",
    "level      = dataset.createVariable('level',    np.int32,   ('level',))\n",
    "\n",
    "psurf      = dataset.createVariable('sp',       np.float32, ('time', 'latitude', 'longitude',))\n",
    "\n",
    "hyam[:]  = avar[:] # needed to avoid explicit copy\n",
    "hybm[:]  = bvar[:]\n",
    "lon[:]   = lon3[:]\n",
    "lat[:]   = lat3[:]\n",
    "level[:] = level3[:]\n",
    "time[:]  = times2[:]\n",
    "\n",
    "psurf[:,:,:] = input_psurf[:,:,:]\n",
    "\n",
    "# Variable Attributes\n",
    "lat.standard_name = 'latitude'\n",
    "lat.units = 'degrees_north'\n",
    "lat.cartesian_axis = \"Y\"\n",
    "lat.axis = 'Y'\n",
    "lat.actual_range = -90.0, 90.0\n",
    "\n",
    "lon.standard_name = 'longitude'\n",
    "lon.units = 'degrees_east'\n",
    "lon.cartesian_axis = \"X\"\n",
    "lon.axis = \"X\"\n",
    "lat.actual_range = 0.0, 360.0\n",
    "\n",
    "psurf.units = 'Pa'\n",
    "psurf.standard_name='sea_level_pressure'\n",
    "\n",
    "level.units = 'Pa'\n",
    "level.axi='Z'\n",
    "level.positive='up'\n",
    "level.standard_name = 'hybrid_pressure_levels'\n",
    "\n",
    "boundaries.units  = 'Pa'\n",
    "boundaries.standard_name = 'hybrid pressure level boundaries'\n",
    "\n",
    "time.standard_name = 'time'\n",
    "time.long_name = 'time'\n",
    "time.units = 'days since 1999-12-01 00:00:00'\n",
    "time.calendar = '360_day'\n",
    "time.axis = 'T'\n",
    "print ('success')\n",
    "dataset.close()"
   ]
  }
 ],
 "metadata": {
  "kernelspec": {
   "display_name": "Python 2",
   "language": "python",
   "name": "python2"
  },
  "language_info": {
   "codemirror_mode": {
    "name": "ipython",
    "version": 2
   },
   "file_extension": ".py",
   "mimetype": "text/x-python",
   "name": "python",
   "nbconvert_exporter": "python",
   "pygments_lexer": "ipython2",
   "version": "2.7.10"
  }
 },
 "nbformat": 4,
 "nbformat_minor": 0
}
