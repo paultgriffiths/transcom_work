{
 "cells": [
  {
   "cell_type": "code",
   "execution_count": 1,
   "metadata": {
    "collapsed": false
   },
   "outputs": [],
   "source": [
    "from IPython.core.display import HTML\n",
    "def css_styling():\n",
    "    styles = open(\"custom.css\", \"r\").read()\n",
    "    return HTML(styles)\n",
    "css_styling()\n",
    "%matplotlib inline"
   ]
  },
  {
   "cell_type": "code",
   "execution_count": 2,
   "metadata": {
    "collapsed": false
   },
   "outputs": [],
   "source": [
    "#%unload_ext vimception\n"
   ]
  },
  {
   "cell_type": "code",
   "execution_count": 63,
   "metadata": {
    "collapsed": false
   },
   "outputs": [],
   "source": [
    "press = np.array([1000,950,900,850,700,500,400,300,250,200,150,100,70,50,30,20,10])*100\n",
    "nplevs= len(press)"
   ]
  },
  {
   "cell_type": "code",
   "execution_count": 11,
   "metadata": {
    "collapsed": false
   },
   "outputs": [],
   "source": [
    "height_match = np.load('height_match_N96L852000_hossaini_press.npy')            "
   ]
  },
  {
   "cell_type": "code",
   "execution_count": 10,
   "metadata": {
    "collapsed": false
   },
   "outputs": [],
   "source": [
    "years = [2000, 2001, 2002, 2003, 2004, 2005, 2006]\n",
    "\n",
    "def read_in_data(year):\n",
    "    filename='/Users/ptg21/data/projects/TRANSCOM/N96_results/CH2Br2_'+str(year)+'.nc'\n",
    "    ncfile1    = netCDF4.Dataset(filename)\n",
    "    lon1        = ncfile1.variables['longitude'][:]\n",
    "    lat1        = ncfile1.variables['latitude'][:] \n",
    "    times1      = ncfile1.variables['t']\n",
    "    hybrid_ht1  = ncfile1.variables['hybrid_ht'][:]\n",
    "\n",
    "    field_34062      = ncfile1.variables['field34062'][:,:,:,:] # liang = 62\n",
    "    field_34063      = ncfile1.variables['field34063'][:,:,:,:] # ordonez = 63\n",
    "    field_34065      = ncfile1.variables['field34065'][:,:,:,:] # ziska = 65\n",
    "\n",
    "    nmonths, nlevels, ny1, nx1 = np.shape(field_34062)\n",
    "    # return liang, ordonez, ziska + dims\n",
    "    return field_34062, field_34063, field_34065, nmonths, nlevels, ny1, nx1\n",
    "\n",
    "field_l, field_o, field_z, nmonths, nlevels1, ny1, nx1 = read_in_data(year)"
   ]
  },
  {
   "cell_type": "code",
   "execution_count": 17,
   "metadata": {
    "collapsed": false
   },
   "outputs": [],
   "source": [
    "def interp_lin_val(xnew, x, y, idx):\n",
    "    # x,y arrays\n",
    "    # xnew is the new xvalue\n",
    "    # returns ynew as a linear interpolation\n",
    "    # returns a value\n",
    "    dx = xnew - x[idx]\n",
    "    dy_dx = (y[idx]-y[idx+1])/(x[idx]-x[idx+1]) \n",
    "    # calculate a value at thew intermediate pressure\n",
    "    return y[idx]+dy_dx*dx"
   ]
  },
  {
   "cell_type": "code",
   "execution_count": 18,
   "metadata": {
    "collapsed": false
   },
   "outputs": [
    {
     "name": "stdout",
     "output_type": "stream",
     "text": [
      "1998\n",
      "0\n",
      "1\n",
      "2\n",
      "3\n",
      "4\n",
      "5\n",
      "6\n",
      "7\n",
      "8\n",
      "9\n",
      "10\n",
      "11\n"
     ]
    }
   ],
   "source": [
    "liang_res   = np.empty([nmonths, nplevs, ny1, nx1])\n",
    "ordonez_res = np.empty([nmonths, nplevs, ny1, nx1])\n",
    "ziska_res   = np.empty([nmonths, nplevs, ny1, nx1])\n",
    "# tried this using interp1d but was factor of 3 slower!  \n",
    "years=[1998]\n",
    "for year in years:\n",
    "    print year\n",
    "    field_l, field_o, field_z, nmonths, nlevels1, ny1, nx1 = read_in_data(year)\n",
    "\n",
    "    for imonth in range (0, 12):\n",
    "        print imonth\n",
    "        for ilat in range(nyl, nyu):\n",
    "            for ilon in range (nxl, nxu): \n",
    "                x_arr = pressure[imonth, :, ilat, ilon]\n",
    "                for ilev in range(0, nplevs):\n",
    "                    if height_match[imonth,ilev, ilat, ilon] != -999:\n",
    "                            liang_res[imonth,  ilev, ilat, ilon] = interp_lin_val(press[ilev], \n",
    "                                                                                  x_arr, \n",
    "                                                                                  field_l[imonth,:, ilat, ilon],\n",
    "                                                                                  height_match[imonth, ilev, ilat, ilon])\n",
    "                            ordonez_res[imonth,ilev, ilat, ilon] =  interp_lin_val(press[ilev], \n",
    "                                                                                  x_arr, \n",
    "                                                                                  field_o[imonth,:, ilat, ilon],\n",
    "                                                                                  height_match[imonth, ilev, ilat, ilon])\n",
    "                            ziska_res[imonth,  ilev, ilat, ilon] = interp_lin_val(press[ilev], \n",
    "                                                                                  x_arr,\n",
    "                                                                                  field_z[imonth,:, ilat, ilon],\n",
    "                                                                                  height_match[imonth, ilev, ilat, ilon])\n",
    "\n",
    "                    else:\n",
    "                        liang_res[imonth,  ilev, ilat, ilon] = -999\n",
    "                        ordonez_res[imonth,ilev, ilat, ilon] = -999 \n",
    "                        ziska_res[imonth,  ilev, ilat, ilon] = -999 \n",
    "\n",
    "\n",
    "    np.save('ordonez_res'+str(year)+'.npy',ordonez_res)\n",
    "    np.save('liang_res'+str(year)+'.npy',liang_res)\n",
    "    np.save('ziska_res'+str(year)+'.npy',ziska_res)"
   ]
  }
 ],
 "metadata": {
  "kernelspec": {
   "display_name": "Python 2",
   "language": "python",
   "name": "python2"
  },
  "language_info": {
   "codemirror_mode": {
    "name": "ipython",
    "version": 2
   },
   "file_extension": ".py",
   "mimetype": "text/x-python",
   "name": "python",
   "nbconvert_exporter": "python",
   "pygments_lexer": "ipython2",
   "version": "2.7.10"
  }
 },
 "nbformat": 4,
 "nbformat_minor": 0
}
