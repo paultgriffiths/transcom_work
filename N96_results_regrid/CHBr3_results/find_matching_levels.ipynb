{
 "cells": [
  {
   "cell_type": "code",
   "execution_count": 1,
   "metadata": {
    "collapsed": false
   },
   "outputs": [],
   "source": [
    "from IPython.core.display import HTML\n",
    "def css_styling():\n",
    "    styles = open(\"custom.css\", \"r\").read()\n",
    "    return HTML(styles)\n",
    "css_styling()\n",
    "%matplotlib inline"
   ]
  },
  {
   "cell_type": "code",
   "execution_count": 2,
   "metadata": {
    "collapsed": false
   },
   "outputs": [],
   "source": [
    "from matplotlib import pyplot as plt\n",
    "from mpl_toolkits.basemap import Basemap, shiftgrid, cm\n",
    "import pandas as pd\n",
    "import numpy as np\n",
    "import netCDF4\n",
    "from matplotlib.ticker import MultipleLocator\n",
    "from scipy.interpolate import *"
   ]
  },
  {
   "cell_type": "code",
   "execution_count": 3,
   "metadata": {
    "collapsed": false
   },
   "outputs": [],
   "source": [
    "# get file containing heights, pressures for L85 ancil\n",
    "filename='/Users/ptg21/data/projects/TRANSCOM/N96_ancil_creation/xkawa.p.avg2000.nc'\n",
    "ncfile2     = netCDF4.Dataset(filename)\n",
    "\n",
    "lon2        = ncfile2.variables['longitude'][:]\n",
    "lat2        = ncfile2.variables['latitude'][:]\n",
    "pressure    = ncfile2.variables['p'][:]\n",
    "\n",
    "hybrid_ht2   = ncfile2.variables['hybrid_ht'][:]\n",
    "times2      = ncfile2.variables['time']\n",
    "nmonths2, nheights2, ny2, nx2 = np.shape(pressure)\n"
   ]
  },
  {
   "cell_type": "code",
   "execution_count": 4,
   "metadata": {
    "collapsed": false
   },
   "outputs": [],
   "source": [
    "press = np.array([1000,950,900,850,700,500,400,300,250,200,150,100,70,50,30,20,10])*100\n",
    "nplevs= len(press)"
   ]
  },
  {
   "cell_type": "code",
   "execution_count": 6,
   "metadata": {
    "collapsed": false
   },
   "outputs": [
    {
     "name": "stdout",
     "output_type": "stream",
     "text": [
      "0\n",
      "1\n",
      "2\n",
      "3\n",
      "4\n",
      "5\n",
      "6\n",
      "7\n",
      "8\n",
      "9\n",
      "10\n",
      "11\n"
     ]
    }
   ],
   "source": [
    "# find which model levels correspond to each height\n",
    "height_match = np.empty([nmonths2, nplevs, ny2, nx2], dtype=np.int)\n",
    "\n",
    "err_str=''\n",
    "\n",
    "nyl=0\n",
    "nyu=ny2\n",
    "\n",
    "nxl=0\n",
    "nxu=nx2\n",
    "\n",
    "\n",
    "for imonth in range (0, nmonths2):\n",
    "    print imonth\n",
    "    for ilat in range(nyl, nyu):\n",
    "        #print ilat\n",
    "        for ilon in range (nxl, nxu):\n",
    "            pold = pressure[imonth,:,ilat,ilon]\n",
    "            pnew = press  \n",
    "            # array for interpolated data\n",
    "            res = np.zeros(17, dtype=np.int)\n",
    "                # for each new level, find corresponding pressure levels and interpolate OH concentration\n",
    "                # need to check the case that there are two levels between the old levels.  think i did this!\n",
    "            startlev=0\n",
    "            # loop over levels required\n",
    "            for newlev in range(startlev, len(pnew)):\n",
    "                if pnew[newlev]>pold[0]:\n",
    "                    res[newlev] = -999\n",
    "                else:\n",
    "                    # locate where in UM output pressure array each required pressure is\n",
    "                    match_press_idx = np.abs(pnew[newlev] - pold).argmin()\n",
    "                    res[newlev] = np.int(match_press_idx)\n",
    "                    startlev=newlev # once have found pressure no need to start from below this level again\n",
    "            height_match[imonth, :, ilat, ilon] = res[:]   \n",
    "            \n",
    "np.save('height_match_N96L852000_hossaini_press.npy',height_match)\n",
    "\n"
   ]
  },
  {
   "cell_type": "code",
   "execution_count": null,
   "metadata": {
    "collapsed": true
   },
   "outputs": [],
   "source": []
  }
 ],
 "metadata": {
  "kernelspec": {
   "display_name": "Python 2",
   "language": "python",
   "name": "python2"
  },
  "language_info": {
   "codemirror_mode": {
    "name": "ipython",
    "version": 2
   },
   "file_extension": ".py",
   "mimetype": "text/x-python",
   "name": "python",
   "nbconvert_exporter": "python",
   "pygments_lexer": "ipython2",
   "version": "2.7.10"
  }
 },
 "nbformat": 4,
 "nbformat_minor": 0
}
