{
 "cells": [
  {
   "cell_type": "code",
   "execution_count": 2,
   "metadata": {
    "collapsed": false
   },
   "outputs": [],
   "source": [
    "from IPython.core.display import HTML\n",
    "def css_styling():\n",
    "    styles = open(\"custom.css\", \"r\").read()\n",
    "    return HTML(styles)\n",
    "css_styling()\n",
    "%matplotlib inline"
   ]
  },
  {
   "cell_type": "code",
   "execution_count": 6,
   "metadata": {
    "collapsed": false
   },
   "outputs": [],
   "source": [
    "import numpy as np\n",
    "from matplotlib import pyplot as plt\n",
    "from mpl_toolkits.basemap import Basemap, shiftgrid, cm\n",
    "import pandas as pd\n",
    "import numpy as np\n",
    "import netCDF4\n",
    "from matplotlib.ticker import MultipleLocator\n",
    "from scipy.interpolate import *"
   ]
  },
  {
   "cell_type": "code",
   "execution_count": 7,
   "metadata": {
    "collapsed": false
   },
   "outputs": [],
   "source": [
    "press = np.array([1000,950,900,850,700,500,400,300,250,200,150,100,70,50,30,20,10])*100\n",
    "nplevs= len(press)"
   ]
  },
  {
   "cell_type": "code",
   "execution_count": 8,
   "metadata": {
    "collapsed": false
   },
   "outputs": [],
   "source": [
    "height_match = np.load('height_match_N48L60_hossaini_press.npy')            "
   ]
  },
  {
   "cell_type": "code",
   "execution_count": 25,
   "metadata": {
    "collapsed": false
   },
   "outputs": [],
   "source": [
    "years = [1,2,3,4,5,6,7,8]\n",
    "\n",
    "def read_in_data(year):\n",
    "    filename='/Users/ptg21/data/projects/TRANSCOM/N48_results/CHBr3_k'+str(year)+'.nc'\n",
    "    ncfile1    = netCDF4.Dataset(filename)\n",
    "    lon1        = ncfile1.variables['longitude'][:]\n",
    "    lat1        = ncfile1.variables['latitude'][:] \n",
    "    times1      = ncfile1.variables['t']\n",
    "    hybrid_ht1  = ncfile1.variables['hybrid_ht'][:]\n",
    "\n",
    "    field_34063      = ncfile1.variables['field34063'][:,:,:,:] # ordonez = 62\n",
    "    field_34066      = ncfile1.variables['field34066'][:,:,:,:] # liang = 66\n",
    "    field_34067      = ncfile1.variables['field34067'][:,:,:,:] # ziska = 67\n",
    "\n",
    "    nmonths, nlevels, ny1, nx1 = np.shape(field_34063)\n",
    "    # return ordonez, liang, ziska + dims\n",
    "    return field_34063, field_34066, field_34067, nmonths, nlevels, ny1, nx1\n",
    "\n",
    "#field_l, field_o, field_z, nmonths, nlevels1, ny1, nx1 = read_in_data(year)"
   ]
  },
  {
   "cell_type": "code",
   "execution_count": 30,
   "metadata": {
    "collapsed": true
   },
   "outputs": [],
   "source": [
    "# get file containing heights, pressures for L85 ancil\n",
    "filename='/Users/ptg21/data/projects/TRANSCOM/N48_ancil_creation/xjcira.p.nc'\n",
    "ncfile2     = netCDF4.Dataset(filename)\n",
    "\n",
    "lon2        = ncfile2.variables['longitude'][:]\n",
    "lat2        = ncfile2.variables['latitude'][:]\n",
    "pressure    = ncfile2.variables['p'][:]\n",
    "\n",
    "hybrid_ht2   = ncfile2.variables['hybrid_ht'][:]\n",
    "times2      = ncfile2.variables['t']\n",
    "nmonths2, nheights2, ny2, nx2 = np.shape(pressure)\n"
   ]
  },
  {
   "cell_type": "code",
   "execution_count": 26,
   "metadata": {
    "collapsed": false
   },
   "outputs": [],
   "source": [
    "def interp_lin_val(xnew, x, y, idx):\n",
    "    # x,y arrays\n",
    "    # xnew is the new xvalue\n",
    "    # returns ynew as a linear interpolation\n",
    "    # returns a value\n",
    "    dx = xnew - x[idx]\n",
    "    dy_dx = (y[idx]-y[idx+1])/(x[idx]-x[idx+1]) \n",
    "    # calculate a value at thew intermediate pressure\n",
    "    return y[idx]+dy_dx*dx"
   ]
  },
  {
   "cell_type": "code",
   "execution_count": null,
   "metadata": {
    "collapsed": true
   },
   "outputs": [],
   "source": [
    "liang_res   = np.empty([nmonths2, nplevs, ny2, nx2])\n",
    "ordonez_res = np.empty([nmonths2, nplevs, ny2, nx2])\n",
    "ziska_res   = np.empty([nmonths2, nplevs, ny2, nx2])\n",
    "# tried this using interp1d but was factor of 3 slower!  \n",
    "nyl = 0\n",
    "nyu = ny2\n",
    "\n",
    "nxl = 0\n",
    "nxu = nx2\n",
    "\n",
    "for year in years:\n",
    "    print year\n",
    "    field_o, field_l, field_z, nmonths, nlevels1, ny1, nx1 = read_in_data(year)\n",
    "\n",
    "    for imonth in range (0, 12):\n",
    "        print imonth\n",
    "        for ilat in range(nyl, nyu):\n",
    "            for ilon in range (nxl, nxu): \n",
    "                x_arr = pressure[imonth, :, ilat, ilon]\n",
    "                for ilev in range(0, nplevs):\n",
    "                    if height_match[imonth,ilev, ilat, ilon] != -999:\n",
    "                            liang_res[imonth,  ilev, ilat, ilon] = interp_lin_val(press[ilev], \n",
    "                                                                                  x_arr, \n",
    "                                                                                  field_l[imonth,:, ilat, ilon],\n",
    "                                                                                  height_match[imonth, ilev, ilat, ilon])\n",
    "                            ordonez_res[imonth,ilev, ilat, ilon] =  interp_lin_val(press[ilev], \n",
    "                                                                                  x_arr, \n",
    "                                                                                  field_o[imonth,:, ilat, ilon],\n",
    "                                                                                  height_match[imonth, ilev, ilat, ilon])\n",
    "                            ziska_res[imonth,  ilev, ilat, ilon] = interp_lin_val(press[ilev], \n",
    "                                                                                  x_arr,\n",
    "                                                                                  field_z[imonth,:, ilat, ilon],\n",
    "                                                                                  height_match[imonth, ilev, ilat, ilon])\n",
    "\n",
    "                    else:\n",
    "                        liang_res[imonth,  ilev, ilat, ilon] = -999\n",
    "                        ordonez_res[imonth,ilev, ilat, ilon] = -999 \n",
    "                        ziska_res[imonth,  ilev, ilat, ilon] = -999 \n",
    "\n",
    "\n",
    "    np.save('ordonez_res'+str(year)+'.npy',ordonez_res)\n",
    "    np.save('liang_res'+str(year)+'.npy',liang_res)\n",
    "    np.save('ziska_res'+str(year)+'.npy',ziska_res)"
   ]
  },
  {
   "cell_type": "code",
   "execution_count": null,
   "metadata": {
    "collapsed": true
   },
   "outputs": [],
   "source": []
  }
 ],
 "metadata": {
  "kernelspec": {
   "display_name": "Python 2",
   "language": "python",
   "name": "python2"
  },
  "language_info": {
   "codemirror_mode": {
    "name": "ipython",
    "version": 2
   },
   "file_extension": ".py",
   "mimetype": "text/x-python",
   "name": "python",
   "nbconvert_exporter": "python",
   "pygments_lexer": "ipython2",
   "version": "2.7.10"
  }
 },
 "nbformat": 4,
 "nbformat_minor": 0
}
