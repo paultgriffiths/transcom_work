{
 "cells": [
  {
   "cell_type": "code",
   "execution_count": 1,
   "metadata": {
    "collapsed": false
   },
   "outputs": [],
   "source": [
    "from IPython.core.display import HTML\n",
    "def css_styling():\n",
    "    styles = open(\"custom.css\", \"r\").read()\n",
    "    return HTML(styles)\n",
    "css_styling()\n",
    "%matplotlib inline"
   ]
  },
  {
   "cell_type": "code",
   "execution_count": null,
   "metadata": {
    "collapsed": true
   },
   "outputs": [],
   "source": []
  },
  {
   "cell_type": "code",
   "execution_count": 2,
   "metadata": {
    "collapsed": false
   },
   "outputs": [],
   "source": [
    "from matplotlib import pyplot as plt\n",
    "from mpl_toolkits.basemap import Basemap, shiftgrid, cm\n",
    "import matplotlib as mpl\n",
    "import pandas as pd\n",
    "import pylab as P\n",
    "import numpy as np\n",
    "import netCDF4\n",
    "from matplotlib.ticker import MultipleLocator\n",
    "from scipy.interpolate import *"
   ]
  },
  {
   "cell_type": "code",
   "execution_count": 3,
   "metadata": {
    "collapsed": false
   },
   "outputs": [],
   "source": [
    "# get file containing heights, pressures for L85 ancil\n",
    "filename='/Users/ptg21/data/projects/TRANSCOM/N48_ancil_creation/xjcira.p.nc'\n",
    "\n",
    "ncfile2     = netCDF4.Dataset(filename)\n",
    "\n",
    "lon2        = ncfile2.variables['longitude'][:]\n",
    "lat2        = ncfile2.variables['latitude'][:]\n",
    "press       = ncfile2.variables['p'][:]\n",
    "hybrid_ht   = ncfile2.variables['hybrid_ht'][:]\n",
    "nheights    = len(hybrid_ht)\n",
    "times2      = ncfile2.variables['t']\n",
    "nmonths2, nheights2, ny2, nx2 = np.shape(press)\n",
    "\n",
    "# if required, can shift lon grid as follows\n",
    "#press,lon2 = shiftgrid(180.,press,lon2,start=False)"
   ]
  },
  {
   "cell_type": "code",
   "execution_count": 4,
   "metadata": {
    "collapsed": false
   },
   "outputs": [],
   "source": [
    "mrch2br2 = 2*81+2+12.\n",
    "mrair = 28.8\n"
   ]
  },
  {
   "cell_type": "code",
   "execution_count": 14,
   "metadata": {
    "collapsed": false
   },
   "outputs": [],
   "source": [
    "##ordonez  = stash63\n",
    "\n",
    "filename='/Users/ptg21/data/projects/TRANSCOM/N48_results/ch2br2_k4.nc'\n",
    "ncfile1     = netCDF4.Dataset(filename)\n",
    "lona        = ncfile1.variables['longitude'][:]\n",
    "lata        = ncfile1.variables['latitude'][:]\n",
    "hybrid_ht   = ncfile1.variables['hybrid_ht']\n",
    "CH2Br2       = ncfile1.variables['field34063'][:,:,:]\n",
    "\n",
    "ordonez_CH2Br2 = CH2Br2* mrair/mrch2br2/1e-12\n",
    "\n",
    "nlevelsa, ntimesa, nya, nxa = np.shape(CH2Br2)\n",
    "\n",
    "ch2br2_zonal_mean=np.empty([nmonths2, nheights, ny2])\n",
    "\n",
    "imonth=0\n",
    "for ilev in range(0,nheights):\n",
    "        for ivar in range (0,ny2):\n",
    "            ch2br2_zonal_mean[imonth,ilev,ivar] = np.mean(ordonez_CH2Br2[imonth,ilev,ivar,:])\n",
    "\n",
    "ch2br2_tropical_mean = np.empty([nmonths2,nheights])\n",
    "\n",
    "for ilev in range(0,nheights):\n",
    "        ch2br2_tropical_mean[imonth, ilev]=np.mean(ch2br2_zonal_mean[imonth,ilev,ny2/2-8:ny2/2+7])\n",
    "\n",
    "        \n",
    "press_prof = press[0,:,nx2/2,ny2/2]/100\n",
    "\n",
    "ordonez_ch2br2_annual_mean_prof = np.empty([nheights])\n",
    "\n",
    "ordonez_ch2br2_annual_stdev_prof = np.empty([nheights])\n",
    "\n",
    "for ilev in range(0,nheights):\n",
    "    ordonez_ch2br2_annual_mean_prof[ilev] = ch2br2_tropical_mean[imonth,ilev]\n",
    "    ordonez_ch2br2_annual_stdev_prof[ilev] = np.std(ch2br2_tropical_mean[:,ilev])\n",
    "#    ordonez_ch2br2_annual_stdev_prof[ilev] = ch2br2_tropical_mean[:,ilev].max()-ch2br2_tropical_mean[:,ilev].min()\n",
    "#ordonez_ch2br2_annual_mean_prof = ordonez_ch2br2_annual_mean_prof[np.logical_not(np.isnan(ordonez_ch2br2_annual_mean_prof))]"
   ]
  },
  {
   "cell_type": "code",
   "execution_count": 15,
   "metadata": {
    "collapsed": false
   },
   "outputs": [
    {
     "data": {
      "text/plain": [
       "<matplotlib.legend.Legend at 0x1149a4390>"
      ]
     },
     "execution_count": 15,
     "metadata": {},
     "output_type": "execute_result"
    },
    {
     "data": {
      "text/plain": [
       "<matplotlib.figure.Figure at 0x114824350>"
      ]
     },
     "metadata": {},
     "output_type": "display_data"
    },
    {
     "data": {
      "image/png": "[encoded data removed]",
      "text/plain": [
       "<matplotlib.figure.Figure at 0x11015ca90>"
      ]
     },
     "metadata": {},
     "output_type": "display_data"
    }
   ],
   "source": [
    "hoss_data=P.loadtxt('/Users/ptg21/data/projects/TRANSCOM/hossaini_res.txt')\n",
    "plt.clf()\n",
    "mpl.rcParams['font.size']=18\n",
    "mpl.rcParams['axes.linewidth'] = 2\n",
    "mpl.rcParams[\"lines.markeredgewidth\"]=1\n",
    "mpl.rcParams\n",
    "plt.figure(figsize=(10,10),dpi=300)\n",
    "plt.subplots_adjust(left=None, bottom=None, right=None, top=None, wspace=0.2, hspace=0.3)\n",
    "\n",
    "plt.subplot(2,2,1, yscale=\"log\")\n",
    "\n",
    "\n",
    "\n",
    "plt.hold(True)\n",
    "plt.grid(True,which='both')\n",
    "\n",
    "#plt.plot(hoss_data[:,0], hoss_data[:,1] , 'o--', color = '0.75', lw=4, markersize=12, label='TOMCAT 2007')\n",
    "\n",
    "# plt.fill_betweenx(press_prof, \n",
    "#                   ordonez_ch2br2_annual_mean_prof-ordonez_ch2br2_annual_stdev_prof, \n",
    "#                   ordonez_ch2br2_annual_mean_prof+ordonez_ch2br2_annual_stdev_prof,\n",
    "#                   alpha=0.2, edgecolor='red', facecolor='red',\n",
    "#                   linewidth=4,  antialiased=True)\n",
    "\n",
    "plt.plot(ordonez_ch2br2_annual_mean_prof[:], press_prof, 'r-', lw=4 ,label='ORDON 2000')\n",
    "\n",
    "plt.ylim([1000,50])\n",
    "plt.xlim([0,5])\n",
    "plt.ylabel('Pressure / mb', fontsize=20)\n",
    "#plt.xlabel('CH$_2$Br$_2$ / pptv', fontsize=20 )\n",
    "plt.legend(fontsize=12, loc = 'lower left')\n"
   ]
  },
  {
   "cell_type": "code",
   "execution_count": 16,
   "metadata": {
    "collapsed": false
   },
   "outputs": [
    {
     "ename": "ValueError",
     "evalue": "Data has no positive values, and therefore can not be log-scaled.",
     "output_type": "error",
     "traceback": [
      "\u001b[0;31m---------------------------------------------------------------------------\u001b[0m",
      "\u001b[0;31mValueError\u001b[0m                                Traceback (most recent call last)",
      "\u001b[0;32m<ipython-input-16-e3dc23123b50>\u001b[0m in \u001b[0;36m<module>\u001b[0;34m()\u001b[0m\n\u001b[1;32m      5\u001b[0m \u001b[0;34m\u001b[0m\u001b[0m\n\u001b[1;32m      6\u001b[0m \u001b[0mplt\u001b[0m\u001b[0;34m.\u001b[0m\u001b[0mhold\u001b[0m\u001b[0;34m(\u001b[0m\u001b[0mTrue\u001b[0m\u001b[0;34m)\u001b[0m\u001b[0;34m\u001b[0m\u001b[0m\n\u001b[0;32m----> 7\u001b[0;31m \u001b[0mplt\u001b[0m\u001b[0;34m.\u001b[0m\u001b[0merrorbar\u001b[0m\u001b[0;34m(\u001b[0m\u001b[0mordonez_ch2br2_annual_mean_prof\u001b[0m\u001b[0;34m[\u001b[0m\u001b[0;34m:\u001b[0m\u001b[0;34m]\u001b[0m\u001b[0;34m,\u001b[0m \u001b[0mpress_prof\u001b[0m\u001b[0;34m,\u001b[0m \u001b[0mxerr\u001b[0m\u001b[0;34m=\u001b[0m\u001b[0mordonez_ch2br2_annual_stdev_prof\u001b[0m\u001b[0;34m)\u001b[0m\u001b[0;31m#, 'o--', label='UKCA')#, ch2br2_std)\u001b[0m\u001b[0;34m\u001b[0m\u001b[0m\n\u001b[0m\u001b[1;32m      8\u001b[0m \u001b[0mplt\u001b[0m\u001b[0;34m.\u001b[0m\u001b[0mplot\u001b[0m\u001b[0;34m(\u001b[0m\u001b[0mhoss_data\u001b[0m\u001b[0;34m[\u001b[0m\u001b[0;34m:\u001b[0m\u001b[0;34m,\u001b[0m\u001b[0;36m0\u001b[0m\u001b[0;34m]\u001b[0m\u001b[0;34m,\u001b[0m \u001b[0mhoss_data\u001b[0m\u001b[0;34m[\u001b[0m\u001b[0;34m:\u001b[0m\u001b[0;34m,\u001b[0m\u001b[0;36m1\u001b[0m\u001b[0;34m]\u001b[0m \u001b[0;34m,\u001b[0m \u001b[0mlabel\u001b[0m\u001b[0;34m=\u001b[0m\u001b[0;34m'TOMCAT 2007'\u001b[0m\u001b[0;34m)\u001b[0m\u001b[0;34m\u001b[0m\u001b[0m\n\u001b[1;32m      9\u001b[0m \u001b[0mplt\u001b[0m\u001b[0;34m.\u001b[0m\u001b[0mlegend\u001b[0m\u001b[0;34m(\u001b[0m\u001b[0;34m)\u001b[0m\u001b[0;34m\u001b[0m\u001b[0m\n",
      "\u001b[0;32m/Users/ptg21/anaconda/envs/basemap/lib/python2.7/site-packages/matplotlib/pyplot.pyc\u001b[0m in \u001b[0;36merrorbar\u001b[0;34m(x, y, yerr, xerr, fmt, ecolor, elinewidth, capsize, barsabove, lolims, uplims, xlolims, xuplims, errorevery, capthick, hold, **kwargs)\u001b[0m\n\u001b[1;32m   2764\u001b[0m                           \u001b[0mbarsabove\u001b[0m\u001b[0;34m=\u001b[0m\u001b[0mbarsabove\u001b[0m\u001b[0;34m,\u001b[0m \u001b[0mlolims\u001b[0m\u001b[0;34m=\u001b[0m\u001b[0mlolims\u001b[0m\u001b[0;34m,\u001b[0m \u001b[0muplims\u001b[0m\u001b[0;34m=\u001b[0m\u001b[0muplims\u001b[0m\u001b[0;34m,\u001b[0m\u001b[0;34m\u001b[0m\u001b[0m\n\u001b[1;32m   2765\u001b[0m                           \u001b[0mxlolims\u001b[0m\u001b[0;34m=\u001b[0m\u001b[0mxlolims\u001b[0m\u001b[0;34m,\u001b[0m \u001b[0mxuplims\u001b[0m\u001b[0;34m=\u001b[0m\u001b[0mxuplims\u001b[0m\u001b[0;34m,\u001b[0m\u001b[0;34m\u001b[0m\u001b[0m\n\u001b[0;32m-> 2766\u001b[0;31m                           errorevery=errorevery, capthick=capthick, **kwargs)\n\u001b[0m\u001b[1;32m   2767\u001b[0m         \u001b[0mdraw_if_interactive\u001b[0m\u001b[0;34m(\u001b[0m\u001b[0;34m)\u001b[0m\u001b[0;34m\u001b[0m\u001b[0m\n\u001b[1;32m   2768\u001b[0m     \u001b[0;32mfinally\u001b[0m\u001b[0;34m:\u001b[0m\u001b[0;34m\u001b[0m\u001b[0m\n",
      "\u001b[0;32m/Users/ptg21/anaconda/envs/basemap/lib/python2.7/site-packages/matplotlib/axes/_axes.pyc\u001b[0m in \u001b[0;36merrorbar\u001b[0;34m(self, x, y, yerr, xerr, fmt, ecolor, elinewidth, capsize, barsabove, lolims, uplims, xlolims, xuplims, errorevery, capthick, **kwargs)\u001b[0m\n\u001b[1;32m   2763\u001b[0m                 \u001b[0myo\u001b[0m\u001b[0;34m,\u001b[0m \u001b[0m_\u001b[0m \u001b[0;34m=\u001b[0m \u001b[0mxywhere\u001b[0m\u001b[0;34m(\u001b[0m\u001b[0my\u001b[0m\u001b[0;34m,\u001b[0m \u001b[0mright\u001b[0m\u001b[0;34m,\u001b[0m \u001b[0mnoxlims\u001b[0m \u001b[0;34m&\u001b[0m \u001b[0meverymask\u001b[0m\u001b[0;34m)\u001b[0m\u001b[0;34m\u001b[0m\u001b[0m\n\u001b[1;32m   2764\u001b[0m                 \u001b[0mlo\u001b[0m\u001b[0;34m,\u001b[0m \u001b[0mro\u001b[0m \u001b[0;34m=\u001b[0m \u001b[0mxywhere\u001b[0m\u001b[0;34m(\u001b[0m\u001b[0mleft\u001b[0m\u001b[0;34m,\u001b[0m \u001b[0mright\u001b[0m\u001b[0;34m,\u001b[0m \u001b[0mnoxlims\u001b[0m \u001b[0;34m&\u001b[0m \u001b[0meverymask\u001b[0m\u001b[0;34m)\u001b[0m\u001b[0;34m\u001b[0m\u001b[0m\n\u001b[0;32m-> 2765\u001b[0;31m                 \u001b[0mbarcols\u001b[0m\u001b[0;34m.\u001b[0m\u001b[0mappend\u001b[0m\u001b[0;34m(\u001b[0m\u001b[0mself\u001b[0m\u001b[0;34m.\u001b[0m\u001b[0mhlines\u001b[0m\u001b[0;34m(\u001b[0m\u001b[0myo\u001b[0m\u001b[0;34m,\u001b[0m \u001b[0mlo\u001b[0m\u001b[0;34m,\u001b[0m \u001b[0mro\u001b[0m\u001b[0;34m,\u001b[0m \u001b[0;34m**\u001b[0m\u001b[0mlines_kw\u001b[0m\u001b[0;34m)\u001b[0m\u001b[0;34m)\u001b[0m\u001b[0;34m\u001b[0m\u001b[0m\n\u001b[0m\u001b[1;32m   2766\u001b[0m                 \u001b[0;32mif\u001b[0m \u001b[0mcapsize\u001b[0m \u001b[0;34m>\u001b[0m \u001b[0;36m0\u001b[0m\u001b[0;34m:\u001b[0m\u001b[0;34m\u001b[0m\u001b[0m\n\u001b[1;32m   2767\u001b[0m                     \u001b[0mcaplines\u001b[0m\u001b[0;34m.\u001b[0m\u001b[0mextend\u001b[0m\u001b[0;34m(\u001b[0m\u001b[0mself\u001b[0m\u001b[0;34m.\u001b[0m\u001b[0mplot\u001b[0m\u001b[0;34m(\u001b[0m\u001b[0mlo\u001b[0m\u001b[0;34m,\u001b[0m \u001b[0myo\u001b[0m\u001b[0;34m,\u001b[0m \u001b[0;34m'k|'\u001b[0m\u001b[0;34m,\u001b[0m \u001b[0;34m**\u001b[0m\u001b[0mplot_kw\u001b[0m\u001b[0;34m)\u001b[0m\u001b[0;34m)\u001b[0m\u001b[0;34m\u001b[0m\u001b[0m\n",
      "\u001b[0;32m/Users/ptg21/anaconda/envs/basemap/lib/python2.7/site-packages/matplotlib/axes/_axes.pyc\u001b[0m in \u001b[0;36mhlines\u001b[0;34m(self, y, xmin, xmax, colors, linestyles, label, **kwargs)\u001b[0m\n\u001b[1;32m    980\u001b[0m \u001b[0;34m\u001b[0m\u001b[0m\n\u001b[1;32m    981\u001b[0m             \u001b[0mself\u001b[0m\u001b[0;34m.\u001b[0m\u001b[0mupdate_datalim\u001b[0m\u001b[0;34m(\u001b[0m\u001b[0mcorners\u001b[0m\u001b[0;34m)\u001b[0m\u001b[0;34m\u001b[0m\u001b[0m\n\u001b[0;32m--> 982\u001b[0;31m             \u001b[0mself\u001b[0m\u001b[0;34m.\u001b[0m\u001b[0mautoscale_view\u001b[0m\u001b[0;34m(\u001b[0m\u001b[0;34m)\u001b[0m\u001b[0;34m\u001b[0m\u001b[0m\n\u001b[0m\u001b[1;32m    983\u001b[0m \u001b[0;34m\u001b[0m\u001b[0m\n\u001b[1;32m    984\u001b[0m         \u001b[0;32mreturn\u001b[0m \u001b[0mcoll\u001b[0m\u001b[0;34m\u001b[0m\u001b[0m\n",
      "\u001b[0;32m/Users/ptg21/anaconda/envs/basemap/lib/python2.7/site-packages/matplotlib/axes/_base.pyc\u001b[0m in \u001b[0;36mautoscale_view\u001b[0;34m(self, tight, scalex, scaley)\u001b[0m\n\u001b[1;32m   1982\u001b[0m                 \u001b[0my1\u001b[0m \u001b[0;34m+=\u001b[0m \u001b[0mdelta\u001b[0m\u001b[0;34m\u001b[0m\u001b[0m\n\u001b[1;32m   1983\u001b[0m             \u001b[0;32mif\u001b[0m \u001b[0;32mnot\u001b[0m \u001b[0m_tight\u001b[0m\u001b[0;34m:\u001b[0m\u001b[0;34m\u001b[0m\u001b[0m\n\u001b[0;32m-> 1984\u001b[0;31m                 \u001b[0my0\u001b[0m\u001b[0;34m,\u001b[0m \u001b[0my1\u001b[0m \u001b[0;34m=\u001b[0m \u001b[0mylocator\u001b[0m\u001b[0;34m.\u001b[0m\u001b[0mview_limits\u001b[0m\u001b[0;34m(\u001b[0m\u001b[0my0\u001b[0m\u001b[0;34m,\u001b[0m \u001b[0my1\u001b[0m\u001b[0;34m)\u001b[0m\u001b[0;34m\u001b[0m\u001b[0m\n\u001b[0m\u001b[1;32m   1985\u001b[0m             \u001b[0mself\u001b[0m\u001b[0;34m.\u001b[0m\u001b[0mset_ybound\u001b[0m\u001b[0;34m(\u001b[0m\u001b[0my0\u001b[0m\u001b[0;34m,\u001b[0m \u001b[0my1\u001b[0m\u001b[0;34m)\u001b[0m\u001b[0;34m\u001b[0m\u001b[0m\n\u001b[1;32m   1986\u001b[0m \u001b[0;34m\u001b[0m\u001b[0m\n",
      "\u001b[0;32m/Users/ptg21/anaconda/envs/basemap/lib/python2.7/site-packages/matplotlib/ticker.pyc\u001b[0m in \u001b[0;36mview_limits\u001b[0;34m(self, vmin, vmax)\u001b[0m\n\u001b[1;32m   1523\u001b[0m         \u001b[0;32mif\u001b[0m \u001b[0mminpos\u001b[0m \u001b[0;34m<=\u001b[0m \u001b[0;36m0\u001b[0m \u001b[0;32mor\u001b[0m \u001b[0;32mnot\u001b[0m \u001b[0mnp\u001b[0m\u001b[0;34m.\u001b[0m\u001b[0misfinite\u001b[0m\u001b[0;34m(\u001b[0m\u001b[0mminpos\u001b[0m\u001b[0;34m)\u001b[0m\u001b[0;34m:\u001b[0m\u001b[0;34m\u001b[0m\u001b[0m\n\u001b[1;32m   1524\u001b[0m             raise ValueError(\n\u001b[0;32m-> 1525\u001b[0;31m                 \u001b[0;34m\"Data has no positive values, and therefore can not be \"\u001b[0m\u001b[0;34m\u001b[0m\u001b[0m\n\u001b[0m\u001b[1;32m   1526\u001b[0m                 \"log-scaled.\")\n\u001b[1;32m   1527\u001b[0m \u001b[0;34m\u001b[0m\u001b[0m\n",
      "\u001b[0;31mValueError\u001b[0m: Data has no positive values, and therefore can not be log-scaled."
     ]
    },
    {
     "data": {
      "text/plain": [
       "<matplotlib.figure.Figure at 0x113c9aed0>"
      ]
     },
     "metadata": {},
     "output_type": "display_data"
    },
    {
     "data": {
      "image/png": "[encoded data removed]",
      "text/plain": [
       "<matplotlib.figure.Figure at 0x10ca6a550>"
      ]
     },
     "metadata": {},
     "output_type": "display_data"
    }
   ],
   "source": [
    "hoss_data=P.loadtxt('/Users/ptg21/data/projects//transcom/hossaini_res.txt')\n",
    "plt.clf()\n",
    "plt.figure(figsize=(6,6),dpi=200)\n",
    "plt.subplot(111, yscale=\"log\")\n",
    "\n",
    "plt.hold(True)\n",
    "plt.errorbar(ordonez_ch2br2_annual_mean_prof[:], press_prof, xerr=ordonez_ch2br2_annual_stdev_prof)#, 'o--', label='UKCA')#, ch2br2_std)\n",
    "plt.plot(hoss_data[:,0], hoss_data[:,1] , label='TOMCAT 2007')\n",
    "plt.legend()\n",
    "plt.ylim([1000,100])\n",
    "plt.xlim([0,1.5])\n"
   ]
  },
  {
   "cell_type": "code",
   "execution_count": 23,
   "metadata": {
    "collapsed": false
   },
   "outputs": [],
   "source": [
    "##ordonez  = stash63\n",
    "\n",
    "filename='/Users/ptg21/data/projects/TRANSCOM/N48_results/ordonez_ch2br2_apr_01.nc'\n",
    "ncfile1     = netCDF4.Dataset(filename)\n",
    "lona        = ncfile1.variables['longitude'][:]\n",
    "lata        = ncfile1.variables['latitude'][:]\n",
    "hybrid_ht   = ncfile1.variables['hybrid_ht']\n",
    "CH2Br2       = ncfile1.variables['field563'][:,:,:]\n",
    "\n",
    "ordonez_CH2Br2 = CH2Br2* mrair/mrch2br2/1e-12\n",
    "\n",
    "nlevelsa, ntimesa, nya, nxa = np.shape(CH2Br2)\n",
    "\n",
    "ch2br2_zonal_mean=np.empty([nmonths2, nheights, ny2])\n",
    "\n",
    "imonth=0\n",
    "for ilev in range(0,nheights):\n",
    "        for ivar in range (0,ny2):\n",
    "            ch2br2_zonal_mean[imonth,ilev,ivar] = np.mean(ordonez_CH2Br2[imonth,ilev,ivar,:])\n",
    "\n",
    "ch2br2_tropical_mean = np.empty([nmonths2,nheights])\n",
    "\n",
    "for ilev in range(0,nheights):\n",
    "        ch2br2_tropical_mean[imonth, ilev]=np.mean(ch2br2_zonal_mean[imonth,ilev,ny2/2-8:ny2/2+7])\n",
    "\n",
    "        \n",
    "press_prof = press[0,:,nx2/2,ny2/2]/100\n",
    "\n",
    "ordonez_ch2br2_annual_mean_prof = np.empty([nheights])\n",
    "\n",
    "ordonez_ch2br2_annual_stdev_prof = np.empty([nheights])\n",
    "\n",
    "for ilev in range(0,nheights):\n",
    "    ordonez_ch2br2_annual_mean_prof[ilev] = ch2br2_tropical_mean[imonth,ilev]\n",
    "#    ch2br2_annual_stdev_prof[ilev] = np.std(ch2br2_tropical_mean[:,ilev])\n",
    "    ordonez_ch2br2_annual_stdev_prof[ilev] = ch2br2_tropical_mean[:,ilev].max()-ch2br2_tropical_mean[:,ilev].min()\n",
    "#ordonez_ch2br2_annual_mean_prof = ordonez_ch2br2_annual_mean_prof[np.logical_not(np.isnan(ordonez_ch2br2_annual_mean_prof))]"
   ]
  },
  {
   "cell_type": "code",
   "execution_count": 24,
   "metadata": {
    "collapsed": false
   },
   "outputs": [
    {
     "data": {
      "text/plain": [
       "<matplotlib.legend.Legend at 0x11146f290>"
      ]
     },
     "execution_count": 24,
     "metadata": {},
     "output_type": "execute_result"
    },
    {
     "data": {
      "text/plain": [
       "<matplotlib.figure.Figure at 0x111b1ad90>"
      ]
     },
     "metadata": {},
     "output_type": "display_data"
    },
    {
     "data": {
      "image/png": "[encoded data removed]",
      "text/plain": [
       "<matplotlib.figure.Figure at 0x111872210>"
      ]
     },
     "metadata": {},
     "output_type": "display_data"
    }
   ],
   "source": [
    "hoss_data=P.loadtxt('/Users/ptg21/data/projects/TRANSCOM/hossaini_res.txt')\n",
    "plt.clf()\n",
    "mpl.rcParams['font.size']=18\n",
    "mpl.rcParams['axes.linewidth'] = 2\n",
    "mpl.rcParams[\"lines.markeredgewidth\"]=1\n",
    "mpl.rcParams\n",
    "plt.figure(figsize=(10,10),dpi=300)\n",
    "plt.subplots_adjust(left=None, bottom=None, right=None, top=None, wspace=0.2, hspace=0.3)\n",
    "\n",
    "plt.subplot(2,2,1, yscale=\"log\")\n",
    "\n",
    "\n",
    "\n",
    "plt.hold(True)\n",
    "plt.grid(True,which='both')\n",
    "\n",
    "#plt.plot(hoss_data[:,0], hoss_data[:,1] , 'o--', color = '0.75', lw=4, markersize=12, label='TOMCAT 2007')\n",
    "\n",
    "# plt.fill_betweenx(press_prof, \n",
    "#                   ordonez_ch2br2_annual_mean_prof-ordonez_ch2br2_annual_stdev_prof, \n",
    "#                   ordonez_ch2br2_annual_mean_prof+ordonez_ch2br2_annual_stdev_prof,\n",
    "#                   alpha=0.2, edgecolor='red', facecolor='red',\n",
    "#                   linewidth=4,  antialiased=True)\n",
    "\n",
    "plt.plot(ordonez_ch2br2_annual_mean_prof[:], press_prof, 'r-', lw=4 ,label='ORDON 2000')\n",
    "\n",
    "plt.ylim([1000,50])\n",
    "plt.xlim([0,0.5])\n",
    "plt.ylabel('Pressure / mb', fontsize=20)\n",
    "#plt.xlabel('CH$_2$Br$_2$ / pptv', fontsize=20 )\n",
    "plt.legend(fontsize=12, loc = 'lower left')\n",
    "\n"
   ]
  },
  {
   "cell_type": "code",
   "execution_count": 28,
   "metadata": {
    "collapsed": false
   },
   "outputs": [
    {
     "data": {
      "text/plain": [
       "(0, 1.5)"
      ]
     },
     "execution_count": 28,
     "metadata": {},
     "output_type": "execute_result"
    },
    {
     "data": {
      "text/plain": [
       "<matplotlib.figure.Figure at 0x111f2af10>"
      ]
     },
     "metadata": {},
     "output_type": "display_data"
    },
    {
     "data": {
      "image/png": "[encoded data removed]",
      "text/plain": [
       "<matplotlib.figure.Figure at 0x11157a490>"
      ]
     },
     "metadata": {},
     "output_type": "display_data"
    }
   ],
   "source": [
    "hoss_data=P.loadtxt('/Users/ptg21/data/projects//transcom/hossaini_res.txt')\n",
    "plt.clf()\n",
    "plt.figure(figsize=(6,6),dpi=200)\n",
    "plt.subplot(111, yscale=\"log\")\n",
    "\n",
    "plt.hold(True)\n",
    "plt.errorbar(ordonez_ch2br2_annual_mean_prof[:], press_prof, xerr=ordonez_ch2br2_annual_stdev_prof)#, 'o--', label='UKCA')#, ch2br2_std)\n",
    "plt.plot(hoss_data[:,0], hoss_data[:,1] , label='TOMCAT 2007')\n",
    "plt.legend()\n",
    "plt.ylim([1000,100])\n",
    "plt.xlim([0,1.5])\n"
   ]
  },
  {
   "cell_type": "code",
   "execution_count": null,
   "metadata": {
    "collapsed": true
   },
   "outputs": [],
   "source": []
  }
 ],
 "metadata": {
  "kernelspec": {
   "display_name": "Python 2",
   "language": "python",
   "name": "python2"
  },
  "language_info": {
   "codemirror_mode": {
    "name": "ipython",
    "version": 2
   },
   "file_extension": ".py",
   "mimetype": "text/x-python",
   "name": "python",
   "nbconvert_exporter": "python",
   "pygments_lexer": "ipython2",
   "version": "2.7.10"
  }
 },
 "nbformat": 4,
 "nbformat_minor": 0
}
