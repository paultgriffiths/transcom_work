{
 "metadata": {
  "name": "",
  "signature": "sha256:99572f19618ea54cd3380900bbc0764c18fdab7c0dc4271f7644fcd023b2e01e"
 },
 "nbformat": 3,
 "nbformat_minor": 0,
 "worksheets": [
  {
   "cells": [
    {
     "cell_type": "code",
     "collapsed": false,
     "input": [
      "from IPython.core.display import HTML\n",
      "def css_styling():\n",
      "    styles = open(\"custom.css\", \"r\").read()\n",
      "    return HTML(styles)\n",
      "css_styling()\n",
      "\n",
      "from matplotlib import pyplot as plt\n",
      "from mpl_toolkits.basemap import Basemap, shiftgrid, cm\n",
      "import pandas as pd\n",
      "import numpy as np\n",
      "import netCDF4\n",
      "from matplotlib.ticker import MultipleLocator\n",
      "from scipy.interpolate import *"
     ],
     "language": "python",
     "metadata": {},
     "outputs": [],
     "prompt_number": 9
    },
    {
     "cell_type": "code",
     "collapsed": false,
     "input": [
      "filename='/Users/ptg21/data/projects/TRANSCOM/ancil_creation/oh_concentration_trop_N96_regrid.nc'\n",
      "ncfile1    = netCDF4.Dataset(filename)\n",
      "lona        = ncfile1.variables['longitude'][:]\n",
      "lata        = ncfile1.variables['latitude'][:]\n",
      "levela      = ncfile1.variables['LEVEL'][:]\n",
      "timesa      = ncfile1.variables['TIME']\n",
      "OHfielda    = ncfile1.variables['OH'][:,:,:]\n",
      "\n",
      "nlevelsa, ntimesa, nya, nxa = np.shape(OHfielda)\n",
      "\n",
      "# create the figure and axes instances.\n",
      "clevs=np.array([0,2.5,5,7.5,10,12.5,15.,17.5,20])*2e5\n",
      "zvar=10\n",
      "\n",
      "fig = plt.figure(num=1,figsize=(30,30),dpi=300)\n",
      "plt.clf()\n",
      "\n",
      "ax = fig.add_subplot(3,1,1)\n",
      "m2 = Basemap(projection='cyl',llcrnrlat=-90,urcrnrlat=90,llcrnrlon=0,urcrnrlon=360,resolution='c')\n",
      "lons2, lats2 = m2.makegrid(nxa, nya)\n",
      "xa,ya = m2(lata, lona)\n",
      "im2 = m2.contourf(lons2,lats2, OHfielda[0,zvar,:,:],clevs) \n",
      "m2.colorbar(im2,location='bottom',pad=\"5%\")\n",
      "m2.drawcoastlines(linewidth=0.25)\n",
      "\n",
      "\n",
      "filename='/Users/ptg21/data/projects/TRANSCOM/ancil_creation/interpolated_OH.nc'\n",
      "ncfile1    = netCDF4.Dataset(filename)\n",
      "lon1        = ncfile1.variables['longitude'][:]\n",
      "lat1        = ncfile1.variables['latitude'][:]\n",
      "level1      = ncfile1.variables['lev_p'][:]\n",
      "#times1      = ncfile1.variables['time']\n",
      "interpOHfield     = ncfile1.variables['OH'][:,:,:,:]\n",
      "nlevels, ntimes1, ny1, nx1 = np.shape(interpOHfield)\n",
      "nboundaries = nlevels + 1\n",
      "nx1 = len(lon1)\n",
      "ny1 = len(lat1)\n",
      "\n",
      "\n",
      "ax = fig.add_subplot(3,1,2)\n",
      "m1 = Basemap(projection='cyl',llcrnrlat=-90,urcrnrlat=90,llcrnrlon=0,urcrnrlon=360.,resolution='c')\n",
      "lons1, lats1 = m1.makegrid(nx1, ny1)\n",
      "x1,y1 = m1(lons1, lats1)\n",
      "im1 = m1.contourf(x1, y1, interpOHfield[0,2,:,:],clevs)\n",
      "m1.colorbar(im1,location='bottom',pad=\"5%\")\n",
      "m1.drawcoastlines(linewidth=0.25)\n",
      "plt.savefig('/Users/ptg21/Desktop/input_OH_lower_levels.png')"
     ],
     "language": "python",
     "metadata": {},
     "outputs": [],
     "prompt_number": 14
    },
    {
     "cell_type": "code",
     "collapsed": false,
     "input": [],
     "language": "python",
     "metadata": {},
     "outputs": []
    }
   ],
   "metadata": {}
  }
 ]
}