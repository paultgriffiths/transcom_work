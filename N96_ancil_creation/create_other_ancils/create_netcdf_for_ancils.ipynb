{
 "worksheets": [
  {
   "cells": [
    {
     "cell_type": "code",
     "metadata": {},
     "outputs": [
      {
       "output_type": "pyout",
       "html": [
        "<style>\n",
        "    div.cell{\n",
        "        width:100%;\n",
        "        margin-left:1%;\n",
        "        margin-right:auto;\n",
        "    }\n",
        "</style>\n"
       ],
       "text": [
        "<IPython.core.display.HTML at 0x462a490>"
       ],
       "metadata": {}
      }
     ],
     "input": [
      "from IPython.core.display import HTML\n",
      "def css_styling():\n",
      "    styles = open(\"custom.css\", \"r\").read()\n",
      "    return HTML(styles)\n",
      "css_styling()"
     ],
     "language": "python",
     "prompt_number": 1
    },
    {
     "cell_type": "code",
     "metadata": {},
     "outputs": [],
     "input": [
      "from matplotlib import pyplot as plt\n",
      "from mpl_toolkits.basemap import Basemap, shiftgrid, cm\n",
      "import pandas as pd\n",
      "import numpy as np\n",
      "import netCDF4\n",
      "from matplotlib.ticker import MultipleLocator\n",
      "from scipy.interpolate import *"
     ],
     "language": "python",
     "prompt_number": 2
    },
    {
     "cell_type": "code",
     "metadata": {},
     "outputs": [],
     "input": [
      "# get file containing heights, pressures for L85 ancil\n",
      "filename='/Users/ptg21/data/projects/TRANSCOM/ancil_creation/322_1.nc'\n",
      "ncfile1     = netCDF4.Dataset(filename)\n",
      "\n",
      "lon1        = ncfile1.variables['longitude'][:]\n",
      "lat1        = ncfile1.variables['latitude'][:]\n",
      "field322_1  = ncfile1.variables['field1876'][:]\n",
      "hybrid_ht1  = ncfile1.variables['hybrid_ht'][:]\n",
      "nheights1   = len(hybrid_ht)\n",
      "times1      = ncfile2.variables['t']\n",
      "nmonths1, nheights1, ny1, nx1 = np.shape(field322_1)"
     ],
     "language": "python",
     "prompt_number": 8
    },
    {
     "cell_type": "code",
     "metadata": {},
     "outputs": [],
     "input": [
      "# get file containing heights, pressures for L85 ancil\n",
      "filename='/Users/ptg21/data/projects/TRANSCOM/ancil_creation/322_2.nc'\n",
      "ncfile2     = netCDF4.Dataset(filename)\n",
      "\n",
      "lon2        = ncfile2.variables['longitude'][:]\n",
      "lat2        = ncfile2.variables['latitude'][:]\n",
      "field322_2    = ncfile2.variables['p'][:]\n",
      "hybrid_ht2   = ncfile2.variables['hybrid_ht'][:]\n",
      "nheights    = len(hybrid_ht)\n",
      "times2      = ncfile2.variables['t']\n",
      "nmonths2, nheights2, ny2, nx2 = np.shape(field322_2)"
     ],
     "language": "python",
     "prompt_number": 13
    },
    {
     "cell_type": "code",
     "metadata": {},
     "outputs": [],
     "input": [
      "%%bash\n",
      "rm -Rf field_322.nc"
     ],
     "language": "python",
     "prompt_number": 22
    },
    {
     "cell_type": "code",
     "metadata": {},
     "outputs": [
      {
       "output_type": "stream",
       "stream": "stdout",
       "text": [
        "success\n"
       ]
      }
     ],
     "input": [
      "# to be fixed\n",
      "\n",
      "from netCDF4 import Dataset\n",
      "import time\n",
      "# Create HDF5 *format*, classic *model*\n",
      "dataset = Dataset('field_322.nc', 'w', format='NETCDF4')\n",
      "\n",
      "# Global Attributes\n",
      "dataset.description = 'TEST NETCDF-CF COMPLIANT SCRIPT'\n",
      "dataset.history = 'Created ' + time.ctime(time.time())\n",
      "dataset.source = ''\n",
      "dataset.Conventions = 'CF-1.0'\n",
      "dataset.standard_name_vocabulary='CF-1.0'\n",
      "\n",
      "height = dataset.createDimension('hybrid_ht', nheights2+1) # add bottom level\n",
      "height = dataset.createVariable('hybrid_ht',    np.int32,   ('hybrid_ht',))\n",
      "\n",
      "time  = dataset.createDimension('time',      None)\n",
      "time  = dataset.createVariable('time',       'f8', ('time',)) # or can use np as below\n",
      "\n",
      "lat   = dataset.createDimension('latitude',  ny2)\n",
      "lat   = dataset.createVariable('latitude',   np.float32, ('latitude',))\n",
      "\n",
      "lon   = dataset.createDimension('longitude', nx2)\n",
      "lon   = dataset.createVariable('longitude',  np.float32, ('longitude',))\n",
      "\n",
      "field322_out = dataset.createVariable('field322', np.float32, ('time','hybrid_ht','latitude', 'longitude',))\n",
      "\n",
      "lon[:]   = lon2[:]\n",
      "lat[:]   = lat2[:]\n",
      "height[1:85] = hybrid_ht2[:]\n",
      "height[0] = hybrid_ht1[:]\n",
      "time[:]  = times2[:]\n",
      "\n",
      "field322_out[:,1:85,:,:] = field322_2[:]\n",
      "field322_out[:,0   ,:,:] = field322_1[:]\n",
      "\n",
      "\n",
      "# Variable Attributes\n",
      "lat.standard_name = 'latitude'\n",
      "lat.units = 'degrees_north'\n",
      "lat.cartesian_axis = \"Y\"\n",
      "lat.axis = 'Y'\n",
      "lat.actual_range = -90.0, 90.0\n",
      "\n",
      "lon.standard_name = 'longitude'\n",
      "lon.units = 'degrees_east'\n",
      "lon.cartesian_axis = \"X\"\n",
      "lon.axis = \"X\"\n",
      "lat.actual_range = 0.0, 360.0\n",
      "\n",
      "field322_out.units = 'molecules / cm-3'\n",
      "field322_out.standard_name='OH_mixing_ratio'\n",
      "\n",
      "height.units = 'm'\n",
      "height.axis='Z'\n",
      "height.positive='up'\n",
      "height.standard_name = 'hybrid_pressure_levels'\n",
      "\n",
      "\n",
      "time.standard_name = 'time'\n",
      "time.long_name = 'time'\n",
      "time.units = 'days since 1999-12-01 00:00:00'\n",
      "time.calendar = '360_day'\n",
      "time.axis = 'T'\n",
      "print ('success')\n",
      "dataset.close()"
     ],
     "language": "python",
     "prompt_number": 23
    },
    {
     "cell_type": "code",
     "metadata": {},
     "outputs": [],
     "input": [
      "#field 323"
     ],
     "language": "python"
    },
    {
     "cell_type": "code",
     "metadata": {},
     "outputs": [],
     "input": [
      "# get file containing heights, pressures for L85 ancil\n",
      "filename='/Users/ptg21/data/projects/TRANSCOM/ancil_creation/323_1.nc'\n",
      "ncfile1     = netCDF4.Dataset(filename)\n",
      "\n",
      "lon1        = ncfile1.variables['longitude'][:]\n",
      "lat1        = ncfile1.variables['latitude'][:]\n",
      "field323_1  = ncfile1.variables['field1876'][:]\n",
      "hybrid_ht1  = ncfile1.variables['hybrid_ht'][:]\n",
      "nheights1   = len(hybrid_ht)\n",
      "times1      = ncfile2.variables['t']\n",
      "nmonths1, nheights1, ny1, nx1 = np.shape(field322_1)"
     ],
     "language": "python",
     "prompt_number": 24
    },
    {
     "cell_type": "code",
     "metadata": {},
     "outputs": [],
     "input": [
      "# get file containing heights, pressures for L85 ancil\n",
      "filename='/Users/ptg21/data/projects/TRANSCOM/ancil_creation/323_2.nc'\n",
      "ncfile2     = netCDF4.Dataset(filename)\n",
      "\n",
      "lon2        = ncfile2.variables['longitude'][:]\n",
      "lat2        = ncfile2.variables['latitude'][:]\n",
      "field323_2    = ncfile2.variables['p'][:]\n",
      "hybrid_ht2   = ncfile2.variables['hybrid_ht'][:]\n",
      "nheights    = len(hybrid_ht)\n",
      "times2      = ncfile2.variables['t']\n",
      "nmonths2, nheights2, ny2, nx2 = np.shape(field322_2)"
     ],
     "language": "python",
     "prompt_number": 25
    },
    {
     "cell_type": "code",
     "metadata": {},
     "outputs": [],
     "input": [
      "%%bash\n",
      "rm -Rf field_323.nc"
     ],
     "language": "python",
     "prompt_number": 22
    },
    {
     "cell_type": "code",
     "metadata": {},
     "outputs": [
      {
       "output_type": "stream",
       "stream": "stdout",
       "text": [
        "success\n"
       ]
      }
     ],
     "input": [
      "# to be fixed\n",
      "\n",
      "from netCDF4 import Dataset\n",
      "import time\n",
      "# Create HDF5 *format*, classic *model*\n",
      "dataset = Dataset('field_323.nc', 'w', format='NETCDF4')\n",
      "\n",
      "# Global Attributes\n",
      "dataset.description = 'TEST NETCDF-CF COMPLIANT SCRIPT'\n",
      "dataset.history = 'Created ' + time.ctime(time.time())\n",
      "dataset.source = ''\n",
      "dataset.Conventions = 'CF-1.0'\n",
      "dataset.standard_name_vocabulary='CF-1.0'\n",
      "\n",
      "height = dataset.createDimension('hybrid_ht', nheights2+1) # add bottom level\n",
      "height = dataset.createVariable('hybrid_ht',    np.int32,   ('hybrid_ht',))\n",
      "\n",
      "time  = dataset.createDimension('time',      None)\n",
      "time  = dataset.createVariable('time',       'f8', ('time',)) # or can use np as below\n",
      "\n",
      "lat   = dataset.createDimension('latitude',  ny2)\n",
      "lat   = dataset.createVariable('latitude',   np.float32, ('latitude',))\n",
      "\n",
      "lon   = dataset.createDimension('longitude', nx2)\n",
      "lon   = dataset.createVariable('longitude',  np.float32, ('longitude',))\n",
      "\n",
      "field323_out = dataset.createVariable('field323', np.float32, ('time','hybrid_ht','latitude', 'longitude',))\n",
      "\n",
      "lon[:]   = lon2[:]\n",
      "lat[:]   = lat2[:]\n",
      "height[1:85] = hybrid_ht2[:]\n",
      "height[0] = hybrid_ht1[:]\n",
      "time[:]  = times2[:]\n",
      "\n",
      "field323_out[:,1:85,:,:] = field323_2[:]\n",
      "field323_out[:,0   ,:,:] = field323_1[:]\n",
      "\n",
      "\n",
      "# Variable Attributes\n",
      "lat.standard_name = 'latitude'\n",
      "lat.units = 'degrees_north'\n",
      "lat.cartesian_axis = \"Y\"\n",
      "lat.axis = 'Y'\n",
      "lat.actual_range = -90.0, 90.0\n",
      "\n",
      "lon.standard_name = 'longitude'\n",
      "lon.units = 'degrees_east'\n",
      "lon.cartesian_axis = \"X\"\n",
      "lon.axis = \"X\"\n",
      "lat.actual_range = 0.0, 360.0\n",
      "\n",
      "field323_out.units = 'molecules / cm-3'\n",
      "field323_out.standard_name='OH_mixing_ratio'\n",
      "\n",
      "height.units = 'm'\n",
      "height.axis='Z'\n",
      "height.positive='up'\n",
      "height.standard_name = 'hybrid_pressure_levels'\n",
      "\n",
      "\n",
      "time.standard_name = 'time'\n",
      "time.long_name = 'time'\n",
      "time.units = 'days since 1999-12-01 00:00:00'\n",
      "time.calendar = '360_day'\n",
      "time.axis = 'T'\n",
      "print ('success')\n",
      "dataset.close()"
     ],
     "language": "python",
     "prompt_number": 26
    },
    {
     "cell_type": "code",
     "metadata": {},
     "outputs": [],
     "input": [
      ""
     ],
     "language": "python"
    },
    {
     "cell_type": "code",
     "metadata": {},
     "outputs": [],
     "input": [
      "# get file containing heights, pressures for L85 ancil\n",
      "filename='/Users/ptg21/data/projects/TRANSCOM/ancil_creation/324_1.nc'\n",
      "ncfile1     = netCDF4.Dataset(filename)\n",
      "\n",
      "lon1        = ncfile1.variables['longitude'][:]\n",
      "lat1        = ncfile1.variables['latitude'][:]\n",
      "field324_1  = ncfile1.variables['field1876'][:]\n",
      "hybrid_ht1  = ncfile1.variables['hybrid_ht'][:]\n",
      "nheights1   = len(hybrid_ht)\n",
      "times1      = ncfile2.variables['t']\n",
      "nmonths1, nheights1, ny1, nx1 = np.shape(field324_1)"
     ],
     "language": "python",
     "prompt_number": 27
    },
    {
     "cell_type": "code",
     "metadata": {},
     "outputs": [],
     "input": [
      "# get file containing heights, pressures for L85 ancil\n",
      "filename='/Users/ptg21/data/projects/TRANSCOM/ancil_creation/324_2.nc'\n",
      "ncfile2     = netCDF4.Dataset(filename)\n",
      "\n",
      "lon2        = ncfile2.variables['longitude'][:]\n",
      "lat2        = ncfile2.variables['latitude'][:]\n",
      "field324_2    = ncfile2.variables['p'][:]\n",
      "hybrid_ht2   = ncfile2.variables['hybrid_ht'][:]\n",
      "nheights    = len(hybrid_ht)\n",
      "times2      = ncfile2.variables['t']\n",
      "nmonths2, nheights2, ny2, nx2 = np.shape(field324_2)"
     ],
     "language": "python",
     "prompt_number": 28
    },
    {
     "cell_type": "code",
     "metadata": {},
     "outputs": [],
     "input": [
      "%%bash\n",
      "rm -Rf field_324.nc"
     ],
     "language": "python",
     "prompt_number": 30
    },
    {
     "cell_type": "code",
     "metadata": {},
     "outputs": [
      {
       "output_type": "stream",
       "stream": "stdout",
       "text": [
        "success\n"
       ]
      }
     ],
     "input": [
      "# to be fixed\n",
      "\n",
      "from netCDF4 import Dataset\n",
      "import time\n",
      "# Create HDF5 *format*, classic *model*\n",
      "dataset = Dataset('field_324.nc', 'w', format='NETCDF4')\n",
      "\n",
      "# Global Attributes\n",
      "dataset.description = 'TEST NETCDF-CF COMPLIANT SCRIPT'\n",
      "dataset.history = 'Created ' + time.ctime(time.time())\n",
      "dataset.source = ''\n",
      "dataset.Conventions = 'CF-1.0'\n",
      "dataset.standard_name_vocabulary='CF-1.0'\n",
      "\n",
      "height = dataset.createDimension('hybrid_ht', nheights2+1) # add bottom level\n",
      "height = dataset.createVariable('hybrid_ht',    np.int32,   ('hybrid_ht',))\n",
      "\n",
      "time  = dataset.createDimension('time',      None)\n",
      "time  = dataset.createVariable('time',       'f8', ('time',)) # or can use np as below\n",
      "\n",
      "lat   = dataset.createDimension('latitude',  ny2)\n",
      "lat   = dataset.createVariable('latitude',   np.float32, ('latitude',))\n",
      "\n",
      "lon   = dataset.createDimension('longitude', nx2)\n",
      "lon   = dataset.createVariable('longitude',  np.float32, ('longitude',))\n",
      "\n",
      "field324_out = dataset.createVariable('field324', np.float32, ('time','hybrid_ht','latitude', 'longitude',))\n",
      "\n",
      "lon[:]   = lon2[:]\n",
      "lat[:]   = lat2[:]\n",
      "height[1:85] = hybrid_ht2[:]\n",
      "height[0] = hybrid_ht1[:]\n",
      "time[:]  = times2[:]\n",
      "\n",
      "field324_out[:,1:85,:,:] = field324_2[:]\n",
      "field324_out[:,0   ,:,:] = field324_1[:]\n",
      "\n",
      "\n",
      "# Variable Attributes\n",
      "lat.standard_name = 'latitude'\n",
      "lat.units = 'degrees_north'\n",
      "lat.cartesian_axis = \"Y\"\n",
      "lat.axis = 'Y'\n",
      "lat.actual_range = -90.0, 90.0\n",
      "\n",
      "lon.standard_name = 'longitude'\n",
      "lon.units = 'degrees_east'\n",
      "lon.cartesian_axis = \"X\"\n",
      "lon.axis = \"X\"\n",
      "lat.actual_range = 0.0, 360.0\n",
      "\n",
      "field324_out.units = 'molecules / cm-3'\n",
      "field324_out.standard_name='OH_mixing_ratio'\n",
      "\n",
      "height.units = 'm'\n",
      "height.axis='Z'\n",
      "height.positive='up'\n",
      "height.standard_name = 'hybrid_pressure_levels'\n",
      "\n",
      "\n",
      "time.standard_name = 'time'\n",
      "time.long_name = 'time'\n",
      "time.units = 'days since 1999-12-01 00:00:00'\n",
      "time.calendar = '360_day'\n",
      "time.axis = 'T'\n",
      "print ('success')\n",
      "dataset.close()"
     ],
     "language": "python",
     "prompt_number": 31
    },
    {
     "cell_type": "code",
     "metadata": {},
     "outputs": [],
     "input": [
      ""
     ],
     "language": "python"
    },
    {
     "cell_type": "code",
     "metadata": {},
     "outputs": [],
     "input": [
      "# get file containing heights, pressures for L85 ancil\n",
      "filename='/Users/ptg21/data/projects/TRANSCOM/ancil_creation/340_1.nc'\n",
      "ncfile1     = netCDF4.Dataset(filename)\n",
      "\n",
      "lon1        = ncfile1.variables['longitude'][:]\n",
      "lat1        = ncfile1.variables['latitude'][:]\n",
      "field340_1  = ncfile1.variables['field1876'][:]\n",
      "hybrid_ht1  = ncfile1.variables['hybrid_ht'][:]\n",
      "nheights1   = len(hybrid_ht)\n",
      "times1      = ncfile2.variables['t']\n",
      "nmonths1, nheights1, ny1, nx1 = np.shape(field340_1)"
     ],
     "language": "python",
     "prompt_number": 32
    },
    {
     "cell_type": "code",
     "metadata": {},
     "outputs": [],
     "input": [
      "# get file containing heights, pressures for L85 ancil\n",
      "filename='/Users/ptg21/data/projects/TRANSCOM/ancil_creation/340_2.nc'\n",
      "ncfile2     = netCDF4.Dataset(filename)\n",
      "\n",
      "lon2        = ncfile2.variables['longitude'][:]\n",
      "lat2        = ncfile2.variables['latitude'][:]\n",
      "field340_2    = ncfile2.variables['runoff'][:]\n",
      "hybrid_ht2   = ncfile2.variables['hybrid_ht'][:]\n",
      "nheights    = len(hybrid_ht)\n",
      "times2      = ncfile2.variables['t']\n",
      "nmonths2, nheights2, ny2, nx2 = np.shape(field340_2)"
     ],
     "language": "python",
     "prompt_number": 34
    },
    {
     "cell_type": "code",
     "metadata": {},
     "outputs": [],
     "input": [
      "%%bash\n",
      "rm -Rf field_340.nc"
     ],
     "language": "python",
     "prompt_number": 30
    },
    {
     "cell_type": "code",
     "metadata": {},
     "outputs": [
      {
       "output_type": "stream",
       "stream": "stdout",
       "text": [
        "success\n"
       ]
      }
     ],
     "input": [
      "# to be fixed\n",
      "\n",
      "from netCDF4 import Dataset\n",
      "import time\n",
      "# Create HDF5 *format*, classic *model*\n",
      "dataset = Dataset('field_340.nc', 'w', format='NETCDF4')\n",
      "\n",
      "# Global Attributes\n",
      "dataset.description = 'TEST NETCDF-CF COMPLIANT SCRIPT'\n",
      "dataset.history = 'Created ' + time.ctime(time.time())\n",
      "dataset.source = ''\n",
      "dataset.Conventions = 'CF-1.0'\n",
      "dataset.standard_name_vocabulary='CF-1.0'\n",
      "\n",
      "height = dataset.createDimension('hybrid_ht', nheights2+1) # add bottom level\n",
      "height = dataset.createVariable('hybrid_ht',    np.int32,   ('hybrid_ht',))\n",
      "\n",
      "time  = dataset.createDimension('time',      None)\n",
      "time  = dataset.createVariable('time',       'f8', ('time',)) # or can use np as below\n",
      "\n",
      "lat   = dataset.createDimension('latitude',  ny2)\n",
      "lat   = dataset.createVariable('latitude',   np.float32, ('latitude',))\n",
      "\n",
      "lon   = dataset.createDimension('longitude', nx2)\n",
      "lon   = dataset.createVariable('longitude',  np.float32, ('longitude',))\n",
      "\n",
      "field340_out = dataset.createVariable('field340', np.float32, ('time','hybrid_ht','latitude', 'longitude',))\n",
      "\n",
      "lon[:]   = lon2[:]\n",
      "lat[:]   = lat2[:]\n",
      "height[1:85] = hybrid_ht2[:]\n",
      "height[0] = hybrid_ht1[:]\n",
      "time[:]  = times2[:]\n",
      "\n",
      "field340_out[:,1:85,:,:] = field340_2[:]\n",
      "field340_out[:,0   ,:,:] = field340_1[:]\n",
      "\n",
      "\n",
      "# Variable Attributes\n",
      "lat.standard_name = 'latitude'\n",
      "lat.units = 'degrees_north'\n",
      "lat.cartesian_axis = \"Y\"\n",
      "lat.axis = 'Y'\n",
      "lat.actual_range = -90.0, 90.0\n",
      "\n",
      "lon.standard_name = 'longitude'\n",
      "lon.units = 'degrees_east'\n",
      "lon.cartesian_axis = \"X\"\n",
      "lon.axis = \"X\"\n",
      "lat.actual_range = 0.0, 360.0\n",
      "\n",
      "field340_out.units = 'molecules / cm-3'\n",
      "field340_out.standard_name='OH_mixing_ratio'\n",
      "\n",
      "height.units = 'm'\n",
      "height.axis='Z'\n",
      "height.positive='up'\n",
      "height.standard_name = 'hybrid_pressure_levels'\n",
      "\n",
      "\n",
      "time.standard_name = 'time'\n",
      "time.long_name = 'time'\n",
      "time.units = 'days since 1999-12-01 00:00:00'\n",
      "time.calendar = '360_day'\n",
      "time.axis = 'T'\n",
      "print ('success')\n",
      "dataset.close()"
     ],
     "language": "python",
     "prompt_number": 35
    },
    {
     "cell_type": "code",
     "metadata": {},
     "outputs": [],
     "input": [
      ""
     ],
     "language": "python"
    }
   ]
  }
 ],
 "cells": [],
 "metadata": {
  "name": "",
  "signature": "sha256:b816e1ae10fb5bd4cac862a660fcfba9a65e0174e732818f704f10225417dd09"
 },
 "nbformat": 3,
 "nbformat_minor": 0
}