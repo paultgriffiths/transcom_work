{
 "metadata": {
  "name": "",
  "signature": "sha256:9313d4d54a83cac075b5aa9447482429753b993f3cc74cfd5fd1f3b1c11ac544"
 },
 "nbformat": 3,
 "nbformat_minor": 0,
 "worksheets": [
  {
   "cells": [
    {
     "cell_type": "code",
     "collapsed": false,
     "input": [
      "from IPython.core.display import HTML\n",
      "def css_styling():\n",
      "    styles = open(\"custom.css\", \"r\").read()\n",
      "    return HTML(styles)\n",
      "css_styling()"
     ],
     "language": "python",
     "metadata": {},
     "outputs": [
      {
       "html": [
        "<style>\n",
        "    div.cell{\n",
        "        width:100%;\n",
        "        margin-left:1%;\n",
        "        margin-right:auto;\n",
        "    }\n",
        "</style>\n"
       ],
       "metadata": {},
       "output_type": "pyout",
       "prompt_number": 1,
       "text": [
        "<IPython.core.display.HTML at 0x2858c10>"
       ]
      }
     ],
     "prompt_number": 1
    },
    {
     "cell_type": "code",
     "collapsed": false,
     "input": [
      "from matplotlib import pyplot as plt\n",
      "from mpl_toolkits.basemap import Basemap, shiftgrid, cm\n",
      "import pandas as pd\n",
      "import numpy as np\n",
      "import netCDF4\n",
      "from matplotlib.ticker import MultipleLocator\n",
      "from scipy.interpolate import *"
     ],
     "language": "python",
     "metadata": {},
     "outputs": [],
     "prompt_number": 2
    },
    {
     "cell_type": "code",
     "collapsed": false,
     "input": [
      "# get file containing heights, pressures for L85 ancil\n",
      "# 316 is the Ordonez emissions, regridded onto N96\n",
      "filename='/Users/ptg21/data/projects/TRANSCOM/ancil_creation/ch2br2_emissions/316.nc'\n",
      "ncfile0     = netCDF4.Dataset(filename)\n",
      "\n",
      "lon0        = ncfile0.variables['longitude'][:]\n",
      "lat0        = ncfile0.variables['latitude'][:]\n",
      "CH2BR2_0    = ncfile0.variables['CH2BR2'][:]\n",
      "times0      = ncfile0.variables['TIME']\n",
      "nmonths0,  ny0, nx0 = np.shape(CH2BR2_0)"
     ],
     "language": "python",
     "metadata": {},
     "outputs": [],
     "prompt_number": 6
    },
    {
     "cell_type": "code",
     "collapsed": false,
     "input": [
      "%%bash\n",
      "rm -Rf field_316.nc"
     ],
     "language": "python",
     "metadata": {},
     "outputs": [],
     "prompt_number": 10
    },
    {
     "cell_type": "code",
     "collapsed": false,
     "input": [
      "from netCDF4 import Dataset\n",
      "import time\n",
      "# Create HDF5 *format*, classic *model*\n",
      "dataset = Dataset('field_316.nc', 'w', format='NETCDF4')\n",
      "\n",
      "# Global Attributes\n",
      "dataset.description = 'TEST NETCDF-CF COMPLIANT SCRIPT'\n",
      "dataset.history = 'Created ' + time.ctime(time.time())\n",
      "dataset.source = ''\n",
      "dataset.Conventions = 'CF-1.0'\n",
      "dataset.standard_name_vocabulary='CF-1.0'\n",
      "\n",
      "time  = dataset.createDimension('time',      None)\n",
      "time  = dataset.createVariable('time',       'f8', ('time',)) # or can use np as below\n",
      "\n",
      "lat   = dataset.createDimension('latitude',  ny0)\n",
      "lat   = dataset.createVariable('latitude',   np.float32, ('latitude',))\n",
      "\n",
      "lon   = dataset.createDimension('longitude', nx0)\n",
      "lon   = dataset.createVariable('longitude',  np.float32, ('longitude',))\n",
      "\n",
      "field316_out = dataset.createVariable('field316', np.float32, ('time', 'latitude', 'longitude',))\n",
      "\n",
      "lon[:]   = lon0[:]\n",
      "lat[:]   = lat0[:]\n",
      "time[:]  = times0[:]\n",
      "field316_out[:,:,:] = CH2BR2_0[:]\n",
      "\n",
      "\n",
      "# Variable Attributes\n",
      "lat.standard_name = 'latitude'\n",
      "lat.units = 'degrees_north'\n",
      "lat.cartesian_axis = \"Y\"\n",
      "lat.axis = 'Y'\n",
      "lat.actual_range = -90.0, 90.0\n",
      "\n",
      "lon.standard_name = 'longitude'\n",
      "lon.units = 'degrees_east'\n",
      "lon.cartesian_axis = \"X\"\n",
      "lon.axis = \"X\"\n",
      "lat.actual_range = 0.0, 360.0\n",
      "\n",
      "field316_out.units = 'emissions'\n",
      "field316_out.standard_name='emissions'\n",
      "field316_out.source = \"Unified Model Output (Vn 6.1):\" \n",
      "field316_out.long_name = \"Stash code = 316\" \n",
      "field316_out.units = \" \" \n",
      "field316_out.missing_value = 2.e+20\n",
      "field316_out.FillValue = 2.e+20 \n",
      "field316_out.valid_min = 0.\n",
      "\n",
      "time.standard_name = 'time'\n",
      "time.long_name = 'time'\n",
      "time.units = 'days since 1999-12-01 00:00:00'\n",
      "time.calendar = '360_day'\n",
      "time.axis = 'T'\n",
      "print ('success')\n",
      "dataset.close()"
     ],
     "language": "python",
     "metadata": {},
     "outputs": [
      {
       "output_type": "stream",
       "stream": "stdout",
       "text": [
        "success\n"
       ]
      }
     ],
     "prompt_number": 11
    },
    {
     "cell_type": "code",
     "collapsed": false,
     "input": [
      "#317 are the liang emissions\n",
      "filename='/Users/ptg21/data/projects/TRANSCOM/ancil_creation/ch2br2_emissions/317.nc'\n",
      "ncfile1     = netCDF4.Dataset(filename)\n",
      "\n",
      "lon1        = ncfile1.variables['longitude'][:]\n",
      "lat1        = ncfile1.variables['latitude'][:]\n",
      "CH2BR2_1    = ncfile1.variables['CH2BR2'][:]\n",
      "times1      = ncfile1.variables['TIME']\n",
      "nmonths1,  ny1, nx1 = np.shape(CH2BR2_1)\n"
     ],
     "language": "python",
     "metadata": {},
     "outputs": [],
     "prompt_number": 13
    },
    {
     "cell_type": "code",
     "collapsed": false,
     "input": [
      "%%bash\n",
      "rm -Rf field_317.nc"
     ],
     "language": "python",
     "metadata": {},
     "outputs": [],
     "prompt_number": 14
    },
    {
     "cell_type": "code",
     "collapsed": false,
     "input": [
      "# to be fixed\n",
      "\n",
      "from netCDF4 import Dataset\n",
      "import time\n",
      "# Create HDF5 *format*, classic *model*\n",
      "dataset = Dataset('field_317.nc', 'w', format='NETCDF4')\n",
      "\n",
      "# Global Attributes\n",
      "dataset.description = 'TEST NETCDF-CF COMPLIANT SCRIPT'\n",
      "dataset.history = 'Created ' + time.ctime(time.time())\n",
      "dataset.source = ''\n",
      "dataset.Conventions = 'CF-1.0'\n",
      "dataset.standard_name_vocabulary='CF-1.0'\n",
      "\n",
      "time  = dataset.createDimension('time',      None)\n",
      "time  = dataset.createVariable('time',       'f8', ('time',)) # or can use np as below\n",
      "\n",
      "lat   = dataset.createDimension('latitude',  ny1)\n",
      "lat   = dataset.createVariable('latitude',   np.float32, ('latitude',))\n",
      "\n",
      "lon   = dataset.createDimension('longitude', nx1)\n",
      "lon   = dataset.createVariable('longitude',  np.float32, ('longitude',))\n",
      "\n",
      "field317_out = dataset.createVariable('field317', np.float32, ('time', 'latitude', 'longitude',))\n",
      "\n",
      "lon[:]   = lon1[:]\n",
      "lat[:]   = lat1[:]\n",
      "time[:]  = times1[:]\n",
      "field317_out[:,:,:] = CH2BR2_1[:]\n",
      "\n",
      "\n",
      "# Variable Attributes\n",
      "lat.standard_name = 'latitude'\n",
      "lat.units = 'degrees_north'\n",
      "lat.cartesian_axis = \"Y\"\n",
      "lat.axis = 'Y'\n",
      "lat.actual_range = -90.0, 90.0\n",
      "\n",
      "lon.standard_name = 'longitude'\n",
      "lon.units = 'degrees_east'\n",
      "lon.cartesian_axis = \"X\"\n",
      "lon.axis = \"X\"\n",
      "lat.actual_range = 0.0, 360.0\n",
      "\n",
      "field317_out.units = 'emissions'\n",
      "field317_out.standard_name='emissions'\n",
      "field317_out.source = \"Unified Model Output (Vn 6.1):\" \n",
      "field317_out.long_name = \"Stash code = 317\" \n",
      "field317_out.units = \" \" \n",
      "field317_out.missing_value = 2.e+20\n",
      "field317_out.FillValue = 2.e+20 \n",
      "field317_out.valid_min = 0.\n",
      "\n",
      "time.standard_name = 'time'\n",
      "time.long_name = 'time'\n",
      "time.units = 'days since 1999-12-01 00:00:00'\n",
      "time.calendar = '360_day'\n",
      "time.axis = 'T'\n",
      "print ('success')\n",
      "dataset.close()"
     ],
     "language": "python",
     "metadata": {},
     "outputs": [
      {
       "output_type": "stream",
       "stream": "stdout",
       "text": [
        "success\n"
       ]
      }
     ],
     "prompt_number": 15
    },
    {
     "cell_type": "code",
     "collapsed": false,
     "input": [
      "# g318 are the ziska emissions\n",
      "filename='/Users/ptg21/data/projects/TRANSCOM/ancil_creation/ch2br2_emissions/318.nc'\n",
      "ncfile2     = netCDF4.Dataset(filename)\n",
      "\n",
      "lon2        = ncfile2.variables['longitude'][:]\n",
      "lat2        = ncfile2.variables['latitude'][:]\n",
      "CH2BR2_2    = ncfile2.variables['CH2BR2'][:]\n",
      "times2      = ncfile2.variables['TIME']\n",
      "nmonths2,  ny2, nx2 = np.shape(CH2BR2_2)\n"
     ],
     "language": "python",
     "metadata": {},
     "outputs": [],
     "prompt_number": 16
    },
    {
     "cell_type": "code",
     "collapsed": false,
     "input": [
      "%%bash\n",
      "rm -Rf field_318.nc"
     ],
     "language": "python",
     "metadata": {},
     "outputs": [],
     "prompt_number": 17
    },
    {
     "cell_type": "code",
     "collapsed": false,
     "input": [
      "# to be fixed\n",
      "\n",
      "from netCDF4 import Dataset\n",
      "import time\n",
      "# Create HDF5 *format*, classic *model*\n",
      "dataset = Dataset('field_318.nc', 'w', format='NETCDF4')\n",
      "\n",
      "# Global Attributes\n",
      "dataset.description = 'TEST NETCDF-CF COMPLIANT SCRIPT'\n",
      "dataset.history = 'Created ' + time.ctime(time.time())\n",
      "dataset.source = ''\n",
      "dataset.Conventions = 'CF-1.0'\n",
      "dataset.standard_name_vocabulary='CF-1.0'\n",
      "\n",
      "time  = dataset.createDimension('time',      None)\n",
      "time  = dataset.createVariable('time',       'f8', ('time',)) # or can use np as below\n",
      "\n",
      "lat   = dataset.createDimension('latitude',  ny2)\n",
      "lat   = dataset.createVariable('latitude',   np.float32, ('latitude',))\n",
      "\n",
      "lon   = dataset.createDimension('longitude', nx2)\n",
      "lon   = dataset.createVariable('longitude',  np.float32, ('longitude',))\n",
      "\n",
      "field318_out = dataset.createVariable('field318', np.float32, ('time', 'latitude', 'longitude',))\n",
      "\n",
      "lon[:]   = lon2[:]\n",
      "lat[:]   = lat2[:]\n",
      "time[:]  = times2[:]\n",
      "field318_out[:,:,:] = CH2BR2_2[:]\n",
      "\n",
      "\n",
      "# Variable Attributes\n",
      "lat.standard_name = 'latitude'\n",
      "lat.units = 'degrees_north'\n",
      "lat.cartesian_axis = \"Y\"\n",
      "lat.axis = 'Y'\n",
      "lat.actual_range = -90.0, 90.0\n",
      "\n",
      "lon.standard_name = 'longitude'\n",
      "lon.units = 'degrees_east'\n",
      "lon.cartesian_axis = \"X\"\n",
      "lon.axis = \"X\"\n",
      "lat.actual_range = 0.0, 360.0\n",
      "\n",
      "field318_out.units = 'emissions'\n",
      "field318_out.standard_name='emissions'\n",
      "field318_out.source = \"Unified Model Output (Vn 6.1):\" \n",
      "field318_out.long_name = \"Stash code = 318\" \n",
      "field318_out.units = \" \" \n",
      "field318_out.missing_value = 2.e+20\n",
      "field318_out.FillValue = 2.e+20 \n",
      "field318_out.valid_min = 0.\n",
      "\n",
      "time.standard_name = 'time'\n",
      "time.long_name = 'time'\n",
      "time.units = 'days since 1999-12-01 00:00:00'\n",
      "time.calendar = '360_day'\n",
      "time.axis = 'T'\n",
      "print ('success')\n",
      "dataset.close()"
     ],
     "language": "python",
     "metadata": {},
     "outputs": [
      {
       "output_type": "stream",
       "stream": "stdout",
       "text": [
        "success\n"
       ]
      }
     ],
     "prompt_number": 18
    },
    {
     "cell_type": "code",
     "collapsed": false,
     "input": [],
     "language": "python",
     "metadata": {},
     "outputs": []
    }
   ],
   "metadata": {}
  }
 ]
}