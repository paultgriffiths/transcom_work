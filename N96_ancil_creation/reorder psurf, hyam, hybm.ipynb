{
 "metadata": {
  "name": "",
  "signature": "sha256:75e2d626f909a5b7e81102d94761411af8f8aeeab1979298360861a3fd261994"
 },
 "nbformat": 3,
 "nbformat_minor": 0,
 "worksheets": [
  {
   "cells": [
    {
     "cell_type": "code",
     "collapsed": false,
     "input": [
      "from IPython.core.display import HTML\n",
      "def css_styling():\n",
      "    styles = open(\"custom.css\", \"r\").read()\n",
      "    return HTML(styles)\n",
      "css_styling()"
     ],
     "language": "python",
     "metadata": {},
     "outputs": [
      {
       "html": [
        "<style>\n",
        "    div.cell{\n",
        "        width:100%;\n",
        "        margin-left:1%;\n",
        "        margin-right:auto;\n",
        "    }\n",
        "</style>\n"
       ],
       "metadata": {},
       "output_type": "pyout",
       "prompt_number": 2,
       "text": [
        "<IPython.core.display.HTML at 0x104796210>"
       ]
      }
     ],
     "prompt_number": 2
    },
    {
     "cell_type": "code",
     "collapsed": false,
     "input": [
      "from matplotlib import pyplot as plt\n",
      "from mpl_toolkits.basemap import Basemap, shiftgrid, cm\n",
      "import pandas as pd\n",
      "import numpy as np\n",
      "import netCDF4\n",
      "from matplotlib.ticker import MultipleLocator\n",
      "from scipy.interpolate import *"
     ],
     "language": "python",
     "metadata": {},
     "outputs": [
      {
       "output_type": "stream",
       "stream": "stderr",
       "text": [
        "/Users/ptg21/Library/Enthought/Canopy_64bit/User/lib/python2.7/site-packages/mpl_toolkits/__init__.py:2: UserWarning: Module argparse was already imported from /Applications/Canopy.app/appdata/canopy-1.4.1.1975.macosx-x86_64/Canopy.app/Contents/lib/python2.7/argparse.pyc, but /Users/ptg21/Library/Enthought/Canopy_64bit/User/lib/python2.7/site-packages is being added to sys.path\n",
        "  __import__('pkg_resources').declare_namespace(__name__)\n"
       ]
      }
     ],
     "prompt_number": 3
    },
    {
     "cell_type": "code",
     "collapsed": false,
     "input": [
      "%matplotlib inline"
     ],
     "language": "python",
     "metadata": {},
     "outputs": [],
     "prompt_number": 4
    },
    {
     "cell_type": "code",
     "collapsed": false,
     "input": [
      "# get levelp1, a, b variables for use in calc of level boundary pressures\n",
      "filename='/Users/ptg21/data/projects/TRANSCOM/oh_concentration_trop.nc'\n",
      "ncfile3    = netCDF4.Dataset(filename)\n",
      "levelp1    = ncfile3.variables['LEVELP1'][:]\n",
      "avar       = ncfile3.variables['A'][:]\n",
      "bvar       = ncfile3.variables['B'][:]\n",
      "lon3        = ncfile3.variables['LONGITUDE'][:]\n",
      "lat3        = ncfile3.variables['LATITUDE'][:]\n",
      "level3      = ncfile3.variables['LEVEL'][:]\n",
      "\n",
      "filename='/Users/ptg21/data/projects/TRANSCOM/oh_concentration_trop_N96_regrid.nc'\n",
      "ncfile1    = netCDF4.Dataset(filename)\n",
      "lon1        = ncfile1.variables['longitude'][:]\n",
      "lat1        = ncfile1.variables['latitude'][:]\n",
      "level1      = ncfile1.variables['LEVEL'][:]\n",
      "times1      = ncfile1.variables['TIME']\n",
      "OHfield     = ncfile1.variables['OH'][:,:,:,:]\n",
      "nmonths, nlevels, ny1, nx1 = np.shape(OHfield)\n",
      "\n",
      "nboundaries = nlevels + 1\n",
      "nx1 = len(lon1)\n",
      "ny1 = len(lat1)\n",
      "# create array which is psurf, a, b starting with top level from existing data\n",
      "\n",
      "ohout   = np.empty_like(OHfield)\n",
      "avarout = np.empty_like(avar)\n",
      "bvarout = np.empty_like(avar)\n",
      "\n",
      "irow=0\n",
      "for ivar in range (len(level3+1), -1, -1):\n",
      "    avarout[irow] = avar [ivar]\n",
      "    bvarout[irow] = bvar [ivar]  \n",
      "    irow=irow+1\n",
      "\n",
      "irow=0    \n",
      "for ivar in range (len(level3)-1, -1, -1):\n",
      "    ohout [:, irow, :, :] = OHfield[:, ivar, :, :]\n",
      "    irow=irow+1\n",
      "    "
     ],
     "language": "python",
     "metadata": {},
     "outputs": [],
     "prompt_number": 10
    },
    {
     "cell_type": "code",
     "collapsed": false,
     "input": [
      "#check that array is correctly reversed\n",
      "plt.plot(   OHfield[0, 5, :, 0], lw=10, alpha=0.4)\n",
      "plt.plot(ohout[0,-6, :, 0])"
     ],
     "language": "python",
     "metadata": {},
     "outputs": [
      {
       "metadata": {},
       "output_type": "pyout",
       "prompt_number": 11,
       "text": [
        "[<matplotlib.lines.Line2D at 0x10f23bed0>]"
       ]
      },
      {
       "metadata": {},
       "output_type": "display_data",
       "png": "[encoded data removed]",
       "text": [
        "<matplotlib.figure.Figure at 0x1037c56d0>"
       ]
      }
     ],
     "prompt_number": 11
    },
    {
     "cell_type": "code",
     "collapsed": false,
     "input": [
      "%%bash\n",
      "rm reversed_OH.nc"
     ],
     "language": "python",
     "metadata": {},
     "outputs": [],
     "prompt_number": 25
    },
    {
     "cell_type": "code",
     "collapsed": false,
     "input": [
      "# to be fixed\n",
      "\n",
      "from netCDF4 import Dataset\n",
      "import time\n",
      "# Create HDF5 *format*, classic *model*\n",
      "dataset = Dataset('reversed_OH.nc', 'w', format='NETCDF4')\n",
      "\n",
      "# Global Attributes\n",
      "dataset.description = 'TEST NETCDF-CF COMPLIANT SCRIPT'\n",
      "dataset.history = 'Created ' + time.ctime(time.time())\n",
      "dataset.source = ''\n",
      "dataset.Conventions = 'CF-1.0'\n",
      "dataset.standard_name_vocabulary='CF-1.0'\n",
      "\n",
      "level = dataset.createDimension('level', nlevels)\n",
      "#boundaries = dataset.createDimension('boundary', nehights+1)\n",
      "\n",
      "time  = dataset.createDimension('time',      None)\n",
      "time  = dataset.createVariable('time',       'f8', ('time',)) # or can use np as below\n",
      "\n",
      "lat   = dataset.createDimension('latitude',  ny1)\n",
      "lat   = dataset.createVariable('latitude',   np.float32, ('latitude',))\n",
      "\n",
      "lon   = dataset.createDimension('longitude', nx1)\n",
      "lon   = dataset.createVariable('longitude',  np.float32, ('longitude',))\n",
      "\n",
      "levels = dataset.createVariable('level',    np.int32,   ('level',))\n",
      "\n",
      "new_OH = dataset.createVariable('OH',       np.float32, ('time', 'level', 'latitude', 'longitude',))\n",
      "\n",
      "lon[:]   = lon1[:]\n",
      "lat[:]   = lat1[:]\n",
      "levels[:] = level1[::-1]\n",
      "time[:]  = times1[:]\n",
      "\n",
      "new_OH[:,:,:,:] = ohout[:,:,:,:]\n",
      "\n",
      "# Variable Attributes\n",
      "lat.standard_name = 'latitude'\n",
      "lat.units = 'degrees_north'\n",
      "lat.cartesian_axis = \"Y\"\n",
      "lat.axis = 'Y'\n",
      "lat.actual_range = -90.0, 90.0\n",
      "\n",
      "lon.standard_name = 'longitude'\n",
      "lon.units = 'degrees_east'\n",
      "lon.cartesian_axis = \"X\"\n",
      "lon.axis = \"X\"\n",
      "lat.actual_range = 0.0, 360.0\n",
      "\n",
      "new_OH.units = 'molecules/cm-3'\n",
      "new_OH.standard_name='OH concentration'\n",
      "\n",
      "levels.units = 'm'\n",
      "levels.axi='Z'\n",
      "levels.positive='up'\n",
      "levels.standard_name = 'hybrid_height'\n",
      "\n",
      "time.standard_name = 'time'\n",
      "time.long_name = 'time'\n",
      "time.units = 'days since 1999-12-01 00:00:00'\n",
      "time.calendar = '360_day'\n",
      "time.axis = 'T'\n",
      "print ('success')\n",
      "dataset.close()"
     ],
     "language": "python",
     "metadata": {},
     "outputs": [
      {
       "output_type": "stream",
       "stream": "stdout",
       "text": [
        "success\n"
       ]
      }
     ],
     "prompt_number": 26
    },
    {
     "cell_type": "code",
     "collapsed": false,
     "input": [],
     "language": "python",
     "metadata": {},
     "outputs": [],
     "prompt_number": 7
    }
   ],
   "metadata": {}
  }
 ]
}