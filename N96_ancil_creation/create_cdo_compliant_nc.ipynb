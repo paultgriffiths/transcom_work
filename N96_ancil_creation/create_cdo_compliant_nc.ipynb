{
 "metadata": {
  "name": "",
  "signature": "sha256:db95eb79e30eaff4387f942d45786fc06cbfe98774613d3821c3f17b6b14930e"
 },
 "nbformat": 3,
 "nbformat_minor": 0,
 "worksheets": [
  {
   "cells": [
    {
     "cell_type": "code",
     "collapsed": false,
     "input": [
      "import pylab as plt\n",
      "import matplotlib as mpl\n",
      "import numpy as np\n",
      "import netCDF4\n",
      "from scipy.interpolate import *"
     ],
     "language": "python",
     "metadata": {},
     "outputs": [],
     "prompt_number": 53
    },
    {
     "cell_type": "code",
     "collapsed": false,
     "input": [
      "%matplotlib inline"
     ],
     "language": "python",
     "metadata": {},
     "outputs": [],
     "prompt_number": 54
    },
    {
     "cell_type": "code",
     "collapsed": false,
     "input": [
      "# get file containing heights, pressures for L85 ancil\n",
      "filename = '/Users/ptg21/data/projects/TRANSCOM/xkawa.p.avg2000.nc'\n",
      "ncfile2     = netCDF4.Dataset(filename)\n",
      "lon2        = ncfile2.variables['longitude'][:]\n",
      "lat2        = ncfile2.variables['latitude'][:]\n",
      "press       = ncfile2.variables['p'][:]\n",
      "hybrid_ht   = ncfile2.variables['hybrid_ht'][:]\n",
      "times2      = ncfile2.variables['time']\n"
     ],
     "language": "python",
     "metadata": {},
     "outputs": [],
     "prompt_number": 55
    },
    {
     "cell_type": "code",
     "collapsed": false,
     "input": [
      "# get levelp1, a, b variables for use in calc of level boundary pressures\n",
      "filename='/Users/ptg21/data/projects/TRANSCOM/oh_concentration_trop.nc'\n",
      "ncfile3     = netCDF4.Dataset(filename)\n",
      "levelp1     = ncfile3.variables['LEVELP1'][:]\n",
      "avar        = ncfile3.variables['A'][:]\n",
      "bvar        = ncfile3.variables['B'][:]\n",
      "lon3        = ncfile3.variables['LONGITUDE'][:]\n",
      "lat3        = ncfile3.variables['LATITUDE'][:]\n",
      "level3      = ncfile3.variables['LEVEL'][:]\n",
      "input_psurf = ncfile3.variables['PSURF'][:]\n",
      "\n",
      "nx3 = len(lon3)\n",
      "ny3 = len(lat3)\n",
      "nz3 = len(level3)"
     ],
     "language": "python",
     "metadata": {},
     "outputs": [],
     "prompt_number": 56
    },
    {
     "cell_type": "code",
     "collapsed": false,
     "input": [
      "%%bash\n",
      "rm -f test.nc"
     ],
     "language": "python",
     "metadata": {},
     "outputs": [],
     "prompt_number": 57
    },
    {
     "cell_type": "code",
     "collapsed": false,
     "input": [
      "# to be fixed\n",
      "\n",
      "from netCDF4 import Dataset\n",
      "import time\n",
      "# Create HDF5 *format*, classic *model*\n",
      "dataset = Dataset('test.nc', 'w', format='NETCDF4')\n",
      "\n",
      "# Global Attributes\n",
      "dataset.description = 'TEST NETCDF-CF COMPLIANT SCRIPT'\n",
      "dataset.history = 'Created ' + time.ctime(time.time())\n",
      "dataset.source = ''\n",
      "dataset.Conventions = 'CF-1.0'\n",
      "dataset.standard_name_vocabulary='CF-1.0'\n",
      "\n",
      "level = dataset.createDimension('level', nz3)\n",
      "boundaries = dataset.createDimension('boundary', nz3+1)\n",
      "\n",
      "time  = dataset.createDimension('time',      None)\n",
      "time  = dataset.createVariable('time',       'f8', ('time',)) # or can use np as below\n",
      "\n",
      "lat   = dataset.createDimension('latitude',  ny3)\n",
      "lat   = dataset.createVariable('latitude',   np.float32, ('latitude',))\n",
      "\n",
      "lon   = dataset.createDimension('longitude', nx3)\n",
      "lon   = dataset.createVariable('longitude',  np.float32, ('longitude',))\n",
      "\n",
      "level      = dataset.createVariable('level',    np.int32,   ('level',))\n",
      "boundaries = dataset.createVariable('boundary', np.int32,   ('boundary',))\n",
      "\n",
      "hyam       = dataset.createVariable('hyam',     np.float32, ('boundary',))\n",
      "hybm       = dataset.createVariable('hybm',     np.float32, ('boundary',))\n",
      "\n",
      "psurf      = dataset.createVariable('sp',       np.float32, ('time', 'latitude', 'longitude',))\n",
      "\n",
      "hyam[:]  = avar[:] # needed to avoid explicit copy\n",
      "hybm[:]  = bvar[:]\n",
      "lon[:]   = lon3[:]\n",
      "lat[:]   = lat3[:]\n",
      "level[:] = level3[:]\n",
      "time[:]  = times2[:]\n",
      "\n",
      "psurf[:,:,:] = input_psurf[:,:,:]\n",
      "\n",
      "# Variable Attributes\n",
      "lat.standard_name = 'latitude'\n",
      "lat.units = 'degrees_north'\n",
      "lat.cartesian_axis = \"Y\"\n",
      "lat.axis = 'Y'\n",
      "lat.actual_range = -90.0, 90.0\n",
      "\n",
      "lon.standard_name = 'longitude'\n",
      "lon.units = 'degrees_east'\n",
      "lon.cartesian_axis = \"X\"\n",
      "lon.axis = \"X\"\n",
      "lat.actual_range = 0.0, 360.0\n",
      "\n",
      "psurf.units = 'Pa'\n",
      "psurf.standard_name='sea_level_pressure'\n",
      "\n",
      "level.units = 'Pa'\n",
      "level.axi='Z'\n",
      "level.positive='up'\n",
      "level.standard_name = 'hybrid_pressure_levels'\n",
      "\n",
      "boundaries.units  = 'Pa'\n",
      "boundaries.standard_name = 'hybrid pressure level boundaries'\n",
      "\n",
      "time.standard_name = 'time'\n",
      "time.long_name = 'time'\n",
      "time.units = 'days since 1999-12-01 00:00:00'\n",
      "time.calendar = '360_day'\n",
      "time.axis = 'T'\n",
      "print ('success')\n",
      "dataset.close()"
     ],
     "language": "python",
     "metadata": {},
     "outputs": [
      {
       "output_type": "stream",
       "stream": "stdout",
       "text": [
        "success\n"
       ]
      }
     ],
     "prompt_number": 58
    },
    {
     "cell_type": "code",
     "collapsed": false,
     "input": [
      "# test with ncview - all three arrays are written\n"
     ],
     "language": "python",
     "metadata": {},
     "outputs": [],
     "prompt_number": 59
    },
    {
     "cell_type": "code",
     "collapsed": false,
     "input": [
      "%%bash\n",
      "#ncdump -h /Users/ptg21/source/scripts/python/ipython_notebooks/test.nc"
     ],
     "language": "python",
     "metadata": {},
     "outputs": [],
     "prompt_number": 60
    },
    {
     "cell_type": "code",
     "collapsed": false,
     "input": [
      "#%%bash\n",
      "#source /Users/ptg21/bin/setup_cfcheck.sh\n",
      "#cfchecks  /Users/ptg21/source/scripts/python/ipython_notebooks/test.nc"
     ],
     "language": "python",
     "metadata": {},
     "outputs": [],
     "prompt_number": 62
    },
    {
     "cell_type": "code",
     "collapsed": false,
     "input": [],
     "language": "python",
     "metadata": {},
     "outputs": []
    }
   ],
   "metadata": {}
  }
 ]
}