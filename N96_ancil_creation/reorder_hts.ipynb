{
 "metadata": {
  "name": "",
  "signature": "sha256:f00a7a6890e2818e194400b27e861d41232d6ba05737ef71314bfd7ab36b7ed9"
 },
 "nbformat": 3,
 "nbformat_minor": 0,
 "worksheets": [
  {
   "cells": [
    {
     "cell_type": "code",
     "collapsed": false,
     "input": [
      "from IPython.core.display import HTML\n",
      "def css_styling():\n",
      "    styles = open(\"custom.css\", \"r\").read()\n",
      "    return HTML(styles)\n",
      "css_styling()"
     ],
     "language": "python",
     "metadata": {},
     "outputs": [
      {
       "html": [
        "<style>\n",
        "    div.cell{\n",
        "        width:100%;\n",
        "        margin-left:1%;\n",
        "        margin-right:auto;\n",
        "    }\n",
        "</style>\n"
       ],
       "metadata": {},
       "output_type": "pyout",
       "prompt_number": 1,
       "text": [
        "<IPython.core.display.HTML at 0x1037c94d0>"
       ]
      }
     ],
     "prompt_number": 1
    },
    {
     "cell_type": "code",
     "collapsed": false,
     "input": [
      "from matplotlib import pyplot as plt\n",
      "from mpl_toolkits.basemap import Basemap, shiftgrid, cm\n",
      "import pandas as pd\n",
      "import numpy as np\n",
      "import netCDF4\n",
      "from matplotlib.ticker import MultipleLocator\n",
      "from scipy.interpolate import *"
     ],
     "language": "python",
     "metadata": {},
     "outputs": [],
     "prompt_number": 29
    },
    {
     "cell_type": "code",
     "collapsed": false,
     "input": [
      "%matplotlib inline"
     ],
     "language": "python",
     "metadata": {},
     "outputs": [],
     "prompt_number": 3
    },
    {
     "cell_type": "code",
     "collapsed": false,
     "input": [
      "# get file containing heights, pressures for L85 ancil\n",
      "filename='/Users/ptg21/data/projects/TRANSCOM/xkawa.p.avg2000.nc'\n",
      "ncfile2     = netCDF4.Dataset(filename)\n",
      "\n",
      "lon2        = ncfile2.variables['longitude'][:]\n",
      "lat2        = ncfile2.variables['latitude'][:]\n",
      "press       = ncfile2.variables['p'][:]\n",
      "hybrid_ht   = ncfile2.variables['hybrid_ht'][:]\n",
      "nheights    = len(hybrid_ht)\n",
      "times2      = ncfile2.variables['time']\n",
      "nmonths2, nheights, ny2, nx2 = np.shape(press)\n",
      "\n",
      "\n",
      "outarray=np.empty_like(press)\n",
      "irow=0\n",
      "for ivar in range (nheights-1, -1, -1):\n",
      "    outarray[:,irow,:,:] = press[:,ivar,:,:]\n",
      "    irow=irow+1"
     ],
     "language": "python",
     "metadata": {},
     "outputs": [],
     "prompt_number": 15
    },
    {
     "cell_type": "code",
     "collapsed": false,
     "input": [
      "#check that array is correctly reversed\n",
      "print(press[0,0,0,0], outarray[0,-1,0,0])\n",
      "plt.plot(   press[0, 5, :, 0], lw=10, alpha=0.4)\n",
      "plt.plot(outarray[0,-6, :, 0])"
     ],
     "language": "python",
     "metadata": {},
     "outputs": [
      {
       "output_type": "stream",
       "stream": "stdout",
       "text": [
        "(68980.586, 68980.586)\n"
       ]
      },
      {
       "metadata": {},
       "output_type": "pyout",
       "prompt_number": 28,
       "text": [
        "[<matplotlib.lines.Line2D at 0x12eb6b790>]"
       ]
      },
      {
       "metadata": {},
       "output_type": "display_data",
       "png": "[encoded data removed]",
       "text": [
        "<matplotlib.figure.Figure at 0x12eb6b710>"
       ]
      }
     ],
     "prompt_number": 28
    },
    {
     "cell_type": "code",
     "collapsed": false,
     "input": [
      "%%bash\n",
      "rm reveresed_xkawa.nc"
     ],
     "language": "python",
     "metadata": {},
     "outputs": [],
     "prompt_number": 6
    },
    {
     "cell_type": "code",
     "collapsed": false,
     "input": [
      "# to be fixed\n",
      "\n",
      "from netCDF4 import Dataset\n",
      "import time\n",
      "# Create HDF5 *format*, classic *model*\n",
      "dataset = Dataset('reveresed_xkawa.nc', 'w', format='NETCDF4')\n",
      "\n",
      "# Global Attributes\n",
      "dataset.description = 'TEST NETCDF-CF COMPLIANT SCRIPT'\n",
      "dataset.history = 'Created ' + time.ctime(time.time())\n",
      "dataset.source = ''\n",
      "dataset.Conventions = 'CF-1.0'\n",
      "dataset.standard_name_vocabulary='CF-1.0'\n",
      "\n",
      "level = dataset.createDimension('level', nheights)\n",
      "#boundaries = dataset.createDimension('boundary', nehights+1)\n",
      "\n",
      "time  = dataset.createDimension('time',      None)\n",
      "time  = dataset.createVariable('time',       'f8', ('time',)) # or can use np as below\n",
      "\n",
      "lat   = dataset.createDimension('latitude',  ny2)\n",
      "lat   = dataset.createVariable('latitude',   np.float32, ('latitude',))\n",
      "\n",
      "lon   = dataset.createDimension('longitude', nx2)\n",
      "lon   = dataset.createVariable('longitude',  np.float32, ('longitude',))\n",
      "\n",
      "heights      = dataset.createVariable('level',    np.int32,   ('level',))\n",
      "\n",
      "new_press  = dataset.createVariable('p',       np.float32, ('time', 'level', 'latitude', 'longitude',))\n",
      "\n",
      "lon[:]   = lon2[:]\n",
      "lat[:]   = lat2[:]\n",
      "heights[:] = hybrid_ht[::-1]\n",
      "time[:]  = times2[:]\n",
      "\n",
      "new_press[:,:,:,:] = outarray[:,:,:,:]\n",
      "\n",
      "# Variable Attributes\n",
      "lat.standard_name = 'latitude'\n",
      "lat.units = 'degrees_north'\n",
      "lat.cartesian_axis = \"Y\"\n",
      "lat.axis = 'Y'\n",
      "lat.actual_range = -90.0, 90.0\n",
      "\n",
      "lon.standard_name = 'longitude'\n",
      "lon.units = 'degrees_east'\n",
      "lon.cartesian_axis = \"X\"\n",
      "lon.axis = \"X\"\n",
      "lat.actual_range = 0.0, 360.0\n",
      "\n",
      "new_press.units = 'Pa'\n",
      "new_press.standard_name='sea_level_pressure'\n",
      "\n",
      "heights.units = 'm'\n",
      "heights.axi='Z'\n",
      "heights.positive='up'\n",
      "heights.standard_name = 'hybrid_height'\n",
      "\n",
      "time.standard_name = 'time'\n",
      "time.long_name = 'time'\n",
      "time.units = 'days since 1999-12-01 00:00:00'\n",
      "time.calendar = '360_day'\n",
      "time.axis = 'T'\n",
      "print ('success')\n",
      "dataset.close()"
     ],
     "language": "python",
     "metadata": {},
     "outputs": [
      {
       "output_type": "stream",
       "stream": "stdout",
       "text": [
        "success\n"
       ]
      }
     ],
     "prompt_number": 17
    },
    {
     "cell_type": "code",
     "collapsed": false,
     "input": [],
     "language": "python",
     "metadata": {},
     "outputs": [],
     "prompt_number": 7
    }
   ],
   "metadata": {}
  }
 ]
}