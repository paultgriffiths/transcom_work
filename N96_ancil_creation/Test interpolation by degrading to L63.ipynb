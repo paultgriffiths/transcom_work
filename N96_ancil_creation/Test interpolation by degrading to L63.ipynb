{
 "metadata": {
  "name": "",
  "signature": "sha256:861a61ed83422c05d4a08c317d5ca56ae005700fc24b9f20dfd66b0d7c286c3a"
 },
 "nbformat": 3,
 "nbformat_minor": 0,
 "worksheets": [
  {
   "cells": [
    {
     "cell_type": "code",
     "collapsed": false,
     "input": [
      "from IPython.core.display import HTML\n",
      "def css_styling():\n",
      "    styles = open(\"custom.css\", \"r\").read()\n",
      "    return HTML(styles)\n",
      "css_styling()\n",
      "%matplotlib inline"
     ],
     "language": "python",
     "metadata": {},
     "outputs": [],
     "prompt_number": 1
    },
    {
     "cell_type": "code",
     "collapsed": false,
     "input": [
      "from matplotlib import pyplot as plt\n",
      "from mpl_toolkits.basemap import Basemap, shiftgrid, cm\n",
      "import pandas as pd\n",
      "import numpy as np\n",
      "import netCDF4\n",
      "from matplotlib.ticker import MultipleLocator\n",
      "from scipy.interpolate import *"
     ],
     "language": "python",
     "metadata": {},
     "outputs": [],
     "prompt_number": 2
    },
    {
     "cell_type": "code",
     "collapsed": false,
     "input": [
      "filename='/Users/ptg21/data/projects/TRANSCOM/ancil_creation/ACTM_T42L67_O1D_N96_regrid.nc'\n",
      "ncfile1    = netCDF4.Dataset(filename)\n",
      "lon1        = ncfile1.variables['longitude'][:]\n",
      "lat1        = ncfile1.variables['latitude'][:] \n",
      "level1      = ncfile1.variables['level'][:] # sigma\n",
      "times1      = ncfile1.variables['time']\n",
      "NDOD        = ncfile1.variables['NDOD'][:,:,:,:]\n",
      "nmonths, nlevels, ny1, nx1 = np.shape(NDOD)\n",
      "nboundaries = nlevels + 1\n",
      "nx1 = len(lon1)\n",
      "ny1 = len(lat1)\n",
      "new_NDOD = np.empty_like(NDOD)\n",
      "for ivar in range (ny1-1,0,-1):\n",
      "    new_NDOD [:,:,ivar,:] = NDOD[:,:,ny1-ivar,:]"
     ],
     "language": "python",
     "metadata": {},
     "outputs": [],
     "prompt_number": 3
    },
    {
     "cell_type": "code",
     "collapsed": false,
     "input": [
      "filename='/Users/ptg21/data/projects/TRANSCOM/ancil_creation/ACTM_T42L67_GeoPotHgt_N96_regrid.nc'\n",
      "ncfilea     = netCDF4.Dataset(filename)\n",
      "lona        = ncfilea.variables['longitude'][:]\n",
      "lata        = ncfilea.variables['latitude'][:] \n",
      "timesa      = ncfilea.variables['time']\n",
      "GeoPH       = ncfilea.variables['Z'][:,:,:,:]\n",
      "nmonthsa, nlevelsa, nya, nxa = np.shape(GeoPH)\n",
      "new_GeoPH = np.empty_like(GeoPH)\n",
      "for ivar in range (nya-1,0,-1):\n",
      "    new_GeoPH [:,:,ivar,:] = GeoPH[:,:,nya-ivar,:]"
     ],
     "language": "python",
     "metadata": {},
     "outputs": [],
     "prompt_number": 4
    },
    {
     "cell_type": "code",
     "collapsed": false,
     "input": [
      "# get file containing heights, pressures for L85 ancil\n",
      "filename='/Users/ptg21/data/projects/TRANSCOM/ancil_creation/xkawa.p.avg2000.nc'\n",
      "ncfile2     = netCDF4.Dataset(filename)\n",
      " \n",
      "lon_in        = ncfile2.variables['longitude'][:]\n",
      "lat_in        = ncfile2.variables['latitude'][:]\n",
      "press_in      = ncfile2.variables['p'][:]\n",
      "hybrid_ht_in  = ncfile2.variables['hybrid_ht'][:]\n",
      "time2_in      = ncfile2.variables['time'][:]\n",
      "nmonths2_in, nheights_in, ny2_in, nx2_in = np.shape(press_in)\n",
      "interp_data=np.load('O1D_interp.npy')"
     ],
     "language": "python",
     "metadata": {},
     "outputs": [],
     "prompt_number": 5
    },
    {
     "cell_type": "code",
     "collapsed": false,
     "input": [
      "new_res=np.empty_like(new_NDOD)\n",
      "\n",
      "# these are the data from which the data are to be interpolated onto\n",
      "err_string=''\n",
      "for imonth in range (0, 1):\n",
      "    print imonth\n",
      "    for ilat in range (0, ny1):\n",
      "        for ilon in range (0, nx1):\n",
      "            xold = hybrid_ht_in\n",
      "            yold = interp_data [imonth, :, ilat, ilon]\n",
      "            if xold.min() == xold.max():\n",
      "                #err_string = err_string + \"FAIL - can't do interpolation for \" + str(ilat) +\",\"+ str(ilon)\n",
      "                new_res[imonth, :, ilat, ilon] = xold.min()\n",
      "            else:\n",
      "                xnew = new_GeoPH[imonth,:,ilat,ilon]\n",
      "                interpol_fn=interp1d(xold, yold, kind='linear' )\n",
      "                interpold_data  = np.zeros((0),float)\n",
      "                for ivar in range(0, len(xnew)):\n",
      "                    if xnew[ivar]< xold.min():\n",
      "                        #err_string = err_string + \"INSUFFICENT RANGE lat=\" + str(ilat) + \" lon=\" + str(ilon) + \" \" + str(xnew[ivar])\\\n",
      "                        #+ \" \" + str(xold.min()) + \"\\n\"\n",
      "                        interpold_data  = np.append(interpold_data,[interpol_fn.__call__(xold.min() )],axis=0)\n",
      "                    elif xnew[ivar] > xold.max():\n",
      "                        interpold_data  = np.append(interpold_data,[interpol_fn.__call__(xold.max() )],axis=0)\n",
      "                        #err_string = err_string + \"INSUFFICENT RANGE lat=\" + str(ilat) + \" lon=\" + str(ilon) +\" \" + str(xnew[ivar])\\\n",
      "                        #+ \" \" + str(xold.max()) + \"\\n\"\n",
      "                    else:\n",
      "                        interpold_data  = np.append(interpold_data,[interpol_fn.__call__(xnew[ivar] )],axis=0)\n",
      "                new_res[imonth, :, ilat, ilon] = interpold_data[:]"
     ],
     "language": "python",
     "metadata": {},
     "outputs": [
      {
       "output_type": "stream",
       "stream": "stdout",
       "text": [
        "0\n"
       ]
      }
     ],
     "prompt_number": 6
    },
    {
     "cell_type": "code",
     "collapsed": false,
     "input": [
      "max_diff_between_int_and_data = (new_res[0,:,:,:]-new_NDOD[0,:,:,:])/(new_res[0,:,:,:]+new_NDOD[0,:,:,:])*100 # percentage diff\n",
      "max_diff_degraded = np.empty([ny1,nx1])\n",
      "# construct an array which is the max of the differences for each {lat,lon}\n",
      "for ivar in range(0,ny1):\n",
      "    for jvar in range (0,nx1):\n",
      "        \n",
      "        max_diff_degraded[ivar,jvar] = max_diff_between_int_and_data[:,ivar,jvar].max()\n",
      "        \n",
      "# can also show that this works with numpy.amax()\n",
      "print(np.shape(max_diff_degraded))\n",
      "max_diff_degraded2 = np.amax(max_diff_between_int_and_data,axis=0) # along height axis, = first of array\n",
      "\n",
      "max_diff_degraded3 = np.amax(max_diff_between_int_and_data,axis=1), #along lat axi, = 2nd of array\n",
      "print(np.shape(max_diff_degraded3))\n",
      "\n",
      "max_diff_degraded4 = np.amax(max_diff_between_int_and_data,axis=2) # you get the picture\n",
      "print(np.shape(max_diff_degraded4))"
     ],
     "language": "python",
     "metadata": {},
     "outputs": [
      {
       "output_type": "stream",
       "stream": "stdout",
       "text": [
        "(145, 192)\n",
        "(67, 192)\n",
        "(67, 145)\n"
       ]
      }
     ],
     "prompt_number": 46
    },
    {
     "cell_type": "code",
     "collapsed": false,
     "input": [
      "plt.contourf(max_diff_degraded)\n",
      "plt.colorbar()"
     ],
     "language": "python",
     "metadata": {},
     "outputs": [
      {
       "metadata": {},
       "output_type": "pyout",
       "prompt_number": 48,
       "text": [
        "<matplotlib.colorbar.Colorbar instance at 0x13e12acb0>"
       ]
      },
      {
       "metadata": {},
       "output_type": "display_data",
       "png": "[encoded data removed]",
       "text": [
        "<matplotlib.figure.Figure at 0x13d37d1d0>"
       ]
      }
     ],
     "prompt_number": 48
    },
    {
     "cell_type": "code",
     "collapsed": false,
     "input": [],
     "language": "python",
     "metadata": {},
     "outputs": [
      {
       "metadata": {},
       "output_type": "pyout",
       "prompt_number": 36,
       "text": [
        "(0, 0)"
       ]
      }
     ],
     "prompt_number": 36
    },
    {
     "cell_type": "code",
     "collapsed": false,
     "input": [
      "np.unravel_index?"
     ],
     "language": "python",
     "metadata": {},
     "outputs": [],
     "prompt_number": 37
    },
    {
     "cell_type": "code",
     "collapsed": false,
     "input": [],
     "language": "python",
     "metadata": {},
     "outputs": []
    }
   ],
   "metadata": {}
  }
 ]
}