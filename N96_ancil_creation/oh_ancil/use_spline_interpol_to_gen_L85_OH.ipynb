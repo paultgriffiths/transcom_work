{
 "metadata": {
  "name": "",
  "signature": "sha256:54baff9b781f6d47cb9c6efa10fe3648c36e76aaec924693af2b982454ab3642"
 },
 "nbformat": 3,
 "nbformat_minor": 0,
 "worksheets": [
  {
   "cells": [
    {
     "cell_type": "code",
     "collapsed": false,
     "input": [
      "from IPython.core.display import HTML\n",
      "def css_styling():\n",
      "    styles = open(\"custom.css\", \"r\").read()\n",
      "    return HTML(styles)\n",
      "css_styling()"
     ],
     "language": "python",
     "metadata": {},
     "outputs": [
      {
       "html": [
        "<style>\n",
        "    div.cell{\n",
        "        width:100%;\n",
        "        margin-left:1%;\n",
        "        margin-right:auto;\n",
        "    }\n",
        "</style>\n"
       ],
       "metadata": {},
       "output_type": "pyout",
       "prompt_number": 2,
       "text": [
        "<IPython.core.display.HTML at 0x10449e810>"
       ]
      }
     ],
     "prompt_number": 2
    },
    {
     "cell_type": "code",
     "collapsed": false,
     "input": [
      "from matplotlib import pyplot as plt\n",
      "from mpl_toolkits.basemap import Basemap, shiftgrid, cm\n",
      "import pandas as pd\n",
      "import numpy as np\n",
      "import netCDF4\n",
      "from matplotlib.ticker import MultipleLocator\n",
      "from scipy.interpolate import *"
     ],
     "language": "python",
     "metadata": {},
     "outputs": [
      {
       "output_type": "stream",
       "stream": "stderr",
       "text": [
        "/Users/ptg21/Library/Enthought/Canopy_64bit/User/lib/python2.7/site-packages/mpl_toolkits/__init__.py:2: UserWarning: Module argparse was already imported from /Applications/Canopy.app/appdata/canopy-1.4.1.1975.macosx-x86_64/Canopy.app/Contents/lib/python2.7/argparse.pyc, but /Users/ptg21/Library/Enthought/Canopy_64bit/User/lib/python2.7/site-packages is being added to sys.path\n",
        "  __import__('pkg_resources').declare_namespace(__name__)\n"
       ]
      }
     ],
     "prompt_number": 3
    },
    {
     "cell_type": "code",
     "collapsed": false,
     "input": [
      "%matplotlib inline"
     ],
     "language": "python",
     "metadata": {},
     "outputs": [],
     "prompt_number": 4
    },
    {
     "cell_type": "code",
     "collapsed": false,
     "input": [
      "filename='/Users/ptg21/data/projects/TRANSCOM/oh_concentration_trop_N96_regrid.nc'\n",
      "ncfile1    = netCDF4.Dataset(filename)\n",
      "lon1        = ncfile1.variables['longitude'][:]\n",
      "lat1        = ncfile1.variables['latitude'][:]\n",
      "level1      = ncfile1.variables['LEVEL'][:]\n",
      "times1      = ncfile1.variables['TIME']\n",
      "OHfield     = ncfile1.variables['OH'][:,:,:,:]\n",
      "nmonths, nlevels, ny1, nx1 = np.shape(OHfield)\n",
      "nboundaries = nlevels + 1\n",
      "nx1 = len(lon1)\n",
      "ny1 = len(lat1)\n"
     ],
     "language": "python",
     "metadata": {},
     "outputs": [],
     "prompt_number": 6
    },
    {
     "cell_type": "code",
     "collapsed": false,
     "input": [
      "# get levelp1, a, b variables for use in calc of level boundary pressures\n",
      "filename='/Users/ptg21/data/projects/TRANSCOM/oh_concentration_trop.nc'\n",
      "ncfile3    = netCDF4.Dataset(filename)\n",
      "levelp1    = ncfile3.variables['LEVELP1'][:]\n",
      "avar       = ncfile3.variables['A'][:]\n",
      "bvar       = ncfile3.variables['B'][:]\n",
      "lon3        = ncfile3.variables['LONGITUDE'][:]\n",
      "lat3        = ncfile3.variables['LATITUDE'][:]\n",
      "level3      = ncfile3.variables['LEVEL'][:]\n",
      "\n",
      "# get psurf needed for same\n",
      "filename='/Users/ptg21/data/projects/TRANSCOM/oh_concentration_trop_psurf_N96_regrid.nc'\n",
      "ncfile4    = netCDF4.Dataset(filename)\n",
      "\n",
      "lon4        = ncfile4.variables['longitude'][:]\n",
      "lat4        = ncfile4.variables['latitude'][:]\n",
      "psurf      = ncfile4.variables['PSURF'][:]\n",
      "ntimes4, ny4, nx4   = np.shape(psurf)\n"
     ],
     "language": "python",
     "metadata": {},
     "outputs": []
    },
    {
     "cell_type": "code",
     "collapsed": false,
     "input": [
      "# get file containing heights, pressures for L85 ancil\n",
      "filename='/Users/ptg21/data/projects/TRANSCOM/xkawa.p.avg2000.nc'\n",
      "ncfile2     = netCDF4.Dataset(filename)\n",
      "\n",
      "lon2        = ncfile2.variables['longitude'][:]\n",
      "lat2        = ncfile2.variables['latitude'][:]\n",
      "press       = ncfile2.variables['p'][:]\n",
      "hybrid_ht   = ncfile2.variables['hybrid_ht'][:]\n",
      "nheights    = len(hybrid_ht)\n",
      "times2      = ncfile2.variables['time']\n",
      "nmonths2, nheights, ny2, nx2 = np.shape(press)\n",
      "\n",
      "# if required, can shift lon grid as follows\n",
      "#press,lon2 = shiftgrid(180.,press,lon2,start=False)\n"
     ],
     "language": "python",
     "metadata": {},
     "outputs": [],
     "prompt_number": 7
    },
    {
     "cell_type": "raw",
     "metadata": {},
     "source": [
      "plot(press[0,:,0,0])"
     ]
    },
    {
     "cell_type": "code",
     "collapsed": false,
     "input": [
      "import re\n",
      "from datetime import datetime, timedelta\n",
      "from netCDF4 import num2date, date2num\n",
      "from netcdftime import utime, datetime\n",
      "\n",
      "dates_res=np.empty_like(times2)\n",
      "cdftime = utime('hours since 1999-12-01 00:00:00', calendar = '360_day')\n",
      "\n",
      "#for tvar in range(0,len(times2)):\n",
      "tvar=0\n",
      "date=datetime(1999,12,1)\n",
      "    \n",
      "datapt=cdftime.date2num(date)\n",
      "tmptime=cdftime.num2date(datapt+times2[tvar]*24.)\n",
      "print (tmptime)"
     ],
     "language": "python",
     "metadata": {},
     "outputs": [
      {
       "output_type": "stream",
       "stream": "stdout",
       "text": [
        "2009-01-16 00:00:00\n"
       ]
      }
     ],
     "prompt_number": 6
    },
    {
     "cell_type": "code",
     "collapsed": false,
     "input": [
      "#figure out how to create an nc file with given times\n",
      "# make it cf compliant\n",
      "# make sure nc view can read it\n"
     ],
     "language": "python",
     "metadata": {},
     "outputs": [],
     "prompt_number": 7
    },
    {
     "cell_type": "code",
     "collapsed": false,
     "input": [
      "# calculate pressures at level boundaries\n",
      "# there are 61 of these\n",
      "input_bndry_press=np.empty([nmonths, nboundaries, ny1, nx1])\n",
      "input_midpt_press=np.empty([nmonths, nlevels, ny1, nx1])\n",
      "\n",
      "for imonth in range(0,12):\n",
      "    for ilevel in range(0,nboundaries):\n",
      "        input_bndry_press[imonth, ilevel, :, :] = avar[ilevel] + bvar[ilevel]*psurf[imonth, :, :] # pressure at level boundary\n",
      "\n",
      "# for imonth in range(0,12):\n",
      "#     for ilevel in range(0,nlevels):\n",
      "#        for ilat in range(0, ny2):\n",
      "#            for ilon in range (0, nx2):\n",
      "#        input_midpt_press[imonth, ilevel, :, :] = 0.5*(input_bndry_press[imonth, ilevel+1,:,:]+\\\n",
      "                                                       input_bndry_press[imonth, ilevel,:,:]) # pressure at level midpoint\\#\n",
      "                                                \n",
      "# let's interpolate both onto L85?\n",
      "# look for pressures in the\u00a7 L85 file that lie between the boundary pressures"
     ],
     "language": "python",
     "metadata": {},
     "outputs": [],
     "prompt_number": 9
    },
    {
     "cell_type": "markdown",
     "metadata": {},
     "source": [
      "can now add an interpolating function over height for each column of the the N96 grid"
     ]
    },
    {
     "cell_type": "code",
     "collapsed": false,
     "input": [
      "# Proof of concept for the interpolation step\n",
      "# need to interpolate OH field onto pressures at sigma level midpoint pressures\n",
      "\n",
      "ilat = 20\n",
      "ilon = 10\n",
      "new_res=np.empty_like(press)\n",
      "\n",
      "# these are the data from which the data are to be interpolated onto\n",
      "err_string=''\n",
      "for imonth in range(0, nmonths):\n",
      "#    for ilat in range (0, nlat):\n",
      "#        for ilon in range (0,nlon):\n",
      "            \n",
      "            xold = input_midpt_press[imonth, :, ilat, ilon]\n",
      "            yold = OHfield[imonth, :, ilat, ilon]\n",
      "            \n",
      "            # generate a 1d interpolation of (pressure, OH) - at the lat/lon of interest - from the transcom data\n",
      "            interpol_fn=interp1d(xold, yold, kind='linear' )\n",
      "\n",
      "            # these are the pressure data that are  to be interpolated onto\n",
      "            xnew = press [imonth, :, ilat, ilon]\n",
      "\n",
      "            # this array will store interpolated OH field data corresponding to the pressures in the required L85 ancilliary\n",
      "            interpold_data  = np.zeros((0),float)\n",
      "\n",
      "            for i in range(0,len(xnew)):\n",
      "                try:\n",
      "                    interpold_data  = np.append(interpold_data,[interpol_fn.__call__(xnew[i])],axis=0)\n",
      "                except:\n",
      "                    err_string=err_string+ \"\\n Error: A value in x_new is above the interpolation range for month\" + str(imonth) + ', lat '+ str(lat4[ilat]) + ', lon' + str(lon4[ilon]) +\" \\n\"+\\\n",
      "                    \"min, max ranges of requested data \"+str(xnew.min())+\", \"+str(xnew.max())+\"\\n\"+\\\n",
      "                    \"min, max ranges of interpolation \"+str(xold.min())+\", \"+str(xold.max())+\"\\n\"+\\\n",
      "                    \"Filling in with value at \"+ str(xold.max())+\"\\n\"\n",
      "                    if xnew[0] == xnew.max():\n",
      "                        interpold_data  = np.append(interpold_data,[interpol_fn.__call__(xold[0])],axis=0)\n",
      "                    else:\n",
      "                        print (\"There is an error in interpolation\")\n",
      "                        break\n",
      "            new_res[imonth, :, ilat, ilon] = interpold_data[:]\n",
      "            \n",
      "#    if err_string !='':\n",
      "#        print err_string)"
     ],
     "language": "python",
     "metadata": {},
     "outputs": [],
     "prompt_number": 11
    },
    {
     "cell_type": "code",
     "collapsed": false,
     "input": [
      "#for imonth in range(0, nmonths):\n",
      "#    for ilev in range(0, nheights):\n",
      "#        for ilev_TC in range(0, nlevelss):\n",
      "imonth=0\n",
      "ilev=0\n",
      "ilat=0\n",
      "ilon=0\n",
      "ilev_TC=0\n",
      "for ilat in range (0, nlat):\n",
      "                for ilon in range (0,nlon):\n",
      "                    if press[imonth, ilev, ilat, ilon] < input_midpt_press[imonth, ilev_TC, ilat, ilon]:\n",
      "                        print \"found it\", press[imonth, ilev, ilat, ilon] , input_midpt_press[imonth, ilev_TC, ilat, ilon]\n",
      "                        break"
     ],
     "language": "python",
     "metadata": {},
     "outputs": [
      {
       "ename": "NameError",
       "evalue": "name 'nlat' is not defined",
       "output_type": "pyerr",
       "traceback": [
        "\u001b[0;31m---------------------------------------------------------------------------\u001b[0m\n\u001b[0;31mNameError\u001b[0m                                 Traceback (most recent call last)",
        "\u001b[0;32m<ipython-input-12-a391aa2eb34d>\u001b[0m in \u001b[0;36m<module>\u001b[0;34m()\u001b[0m\n\u001b[1;32m      7\u001b[0m \u001b[0milon\u001b[0m\u001b[0;34m=\u001b[0m\u001b[0;36m0\u001b[0m\u001b[0;34m\u001b[0m\u001b[0m\n\u001b[1;32m      8\u001b[0m \u001b[0milev_TC\u001b[0m\u001b[0;34m=\u001b[0m\u001b[0;36m0\u001b[0m\u001b[0;34m\u001b[0m\u001b[0m\n\u001b[0;32m----> 9\u001b[0;31m \u001b[0;32mfor\u001b[0m \u001b[0milat\u001b[0m \u001b[0;32min\u001b[0m \u001b[0mrange\u001b[0m \u001b[0;34m(\u001b[0m\u001b[0;36m0\u001b[0m\u001b[0;34m,\u001b[0m \u001b[0mnlat\u001b[0m\u001b[0;34m)\u001b[0m\u001b[0;34m:\u001b[0m\u001b[0;34m\u001b[0m\u001b[0m\n\u001b[0m\u001b[1;32m     10\u001b[0m                 \u001b[0;32mfor\u001b[0m \u001b[0milon\u001b[0m \u001b[0;32min\u001b[0m \u001b[0mrange\u001b[0m \u001b[0;34m(\u001b[0m\u001b[0;36m0\u001b[0m\u001b[0;34m,\u001b[0m\u001b[0mnlon\u001b[0m\u001b[0;34m)\u001b[0m\u001b[0;34m:\u001b[0m\u001b[0;34m\u001b[0m\u001b[0m\n\u001b[1;32m     11\u001b[0m                     \u001b[0;32mif\u001b[0m \u001b[0mpress\u001b[0m\u001b[0;34m[\u001b[0m\u001b[0mimonth\u001b[0m\u001b[0;34m,\u001b[0m \u001b[0milev\u001b[0m\u001b[0;34m,\u001b[0m \u001b[0milat\u001b[0m\u001b[0;34m,\u001b[0m \u001b[0milon\u001b[0m\u001b[0;34m]\u001b[0m \u001b[0;34m<\u001b[0m \u001b[0minput_midpt_press\u001b[0m\u001b[0;34m[\u001b[0m\u001b[0mimonth\u001b[0m\u001b[0;34m,\u001b[0m \u001b[0milev_TC\u001b[0m\u001b[0;34m,\u001b[0m \u001b[0milat\u001b[0m\u001b[0;34m,\u001b[0m \u001b[0milon\u001b[0m\u001b[0;34m]\u001b[0m\u001b[0;34m:\u001b[0m\u001b[0;34m\u001b[0m\u001b[0m\n",
        "\u001b[0;31mNameError\u001b[0m: name 'nlat' is not defined"
       ]
      }
     ],
     "prompt_number": 12
    },
    {
     "cell_type": "code",
     "collapsed": false,
     "input": [
      "# create the figure and axes instances.\n",
      "fig = plt.figure(num=1,figsize=(20,30),dpi=300)\n",
      "\n",
      "clevs=np.arange(60000,110000,2000)\n",
      "zvar=0\n",
      "ax = fig.add_subplot(3,1,1)\n",
      "m1 = Basemap(projection='cyl',llcrnrlat=-90,urcrnrlat=90,llcrnrlon=0,urcrnrlon=360.,resolution='c')\n",
      "lons1, lats1 = m1.makegrid(nx1, ny1)\n",
      "x1,y1 = m1(lons1, lats1)\n",
      "im1 = m1.contourf(x1, y1, input_midpt_press[0,zvar,:,:], clevs)\n",
      "m1.colorbar(im1,location='bottom',pad=\"5%\")\n",
      "m1.drawcoastlines(linewidth=0.25)\n",
      "\n",
      "\n",
      "ax = fig.add_subplot(3,1,2)\n",
      "#m2 = Basemap(projection='cyl',llcrnrlat=-90,urcrnrlat=90,llcrnrlon=0,urcrnrlon=360.,resolution='c')\n",
      "m2 = Basemap(projection='cyl',llcrnrlat=-90,urcrnrlat=90,llcrnrlon=0,urcrnrlon=360,resolution='c')\n",
      "lons2, lats2 = m2.makegrid(nx2, ny2)\n",
      "x2,y2 = m2(lons2, lats2)\n",
      "im2 = m2.contourf(x2, y2, press[0,zvar,:,:],clevs) #fix_aspect=True)\n",
      "m2.colorbar(im2,location='bottom',pad=\"5%\")\n",
      "m2.drawcoastlines(linewidth=0.25)\n",
      "\n",
      "\n",
      "\n",
      "clevs=np.arange(-2.5,2.5,0.25) \n",
      "\n",
      "ax = fig.add_subplot(3,1,3)\n",
      "m2 = Basemap(projection='cyl',llcrnrlat=-90,urcrnrlat=90,llcrnrlon=0,urcrnrlon=360.,resolution='c')\n",
      "#m2 = Basemap(projection='cyl',llcrnrlat=-90,urcrnrlat=90,llcrnrlon=-180,urcrnrlon=180,resolution='c')\n",
      "lons2, lats2 = m2.makegrid(nx2, ny2)\n",
      "x2,y2 = m2(lons2, lats2)\n",
      "im2 = m2.contourf(x2, y2, (press[0,zvar,:,:]-input_midpt_press[0,zvar,:,:])/(press[0,zvar,:,:]+input_midpt_press[0,zvar,:,:])*100.,clevs) #fix_aspect=True)\n",
      "m2.colorbar(im2,location='bottom',pad=\"5%\")\n",
      "m2.drawcoastlines(linewidth=0.25)\n",
      "plt.title('difference plot: 5% scale', fontsize=24)"
     ],
     "language": "python",
     "metadata": {},
     "outputs": []
    },
    {
     "cell_type": "code",
     "collapsed": false,
     "input": [
      "#plt.savefig('/Users/ptg21/Desktop/ffs.png')\n",
      "\n",
      "print(input_midpt_press[0,0, int(ny4/2), int(nx4/2)], lat4[int(ny4/2)], lon4[int(nx4/2)], nx4, ny4)\n",
      "print(            press[0,2, int(ny2/2), int(nx2/2)], lat2[int(nx2/2)], lon2[int(ny2/2)], nx2, ny2)"
     ],
     "language": "python",
     "metadata": {},
     "outputs": []
    },
    {
     "cell_type": "code",
     "collapsed": false,
     "input": [
      "# create the figure and axes instances.\n",
      "fig = plt.figure(num=2,figsize=(15,8),dpi=200)\n",
      "m3 = Basemap(projection='cyl',llcrnrlat=-90,urcrnrlat=90,llcrnrlon=-180,urcrnrlon=180,resolution='c')\n",
      "im2 = m3.contourf(x2, y2, press[1,0,:,:], clevs, cmap=plt.cm.RdBu)\n",
      "im1 = m3.contourf (x1, y1, newp [1,0,:,:], clevs, alpha=0.3, cmap=plt.cm.RdBu)\n"
     ],
     "language": "python",
     "metadata": {},
     "outputs": []
    },
    {
     "cell_type": "code",
     "collapsed": false,
     "input": [
      "# to be fixed\n",
      "\n",
      "from netCDF4 import Dataset\n",
      "import time\n",
      "# Create HDF5 *format*, classic *model*\n",
      "dataset = Dataset('test.nc', 'w', format='NETCDF4')\n",
      "\n",
      "# Global Attributes\n",
      "dataset.description = 'TEST NETCDF-CF COMPLIANT SCRIPT'\n",
      "dataset.history = 'Created ' + time.ctime(time.time())\n",
      "dataset.source = ''\n",
      "dataset.Conventions = 'CF-1.0'\n",
      "dataset.standard_name_vocabulary='CF-1.0'\n",
      "\n",
      "level = dataset.createDimension('level', nz3)\n",
      "boundaries = dataset.createDimension('boundary', nz3+1)\n",
      "\n",
      "time  = dataset.createDimension('time',      None)\n",
      "time  = dataset.createVariable('time',       'f8', ('time',)) # or can use np as below\n",
      "\n",
      "lat   = dataset.createDimension('latitude',  ny3)\n",
      "lat   = dataset.createVariable('latitude',   np.float32, ('latitude',))\n",
      "\n",
      "lon   = dataset.createDimension('longitude', nx3)\n",
      "lon   = dataset.createVariable('longitude',  np.float32, ('longitude',))\n",
      "\n",
      "level      = dataset.createVariable('level',    np.int32,   ('level',))\n",
      "boundaries = dataset.createVariable('boundary', np.int32,   ('boundary',))\n",
      "\n",
      "hyam       = dataset.createVariable('hyam',     np.float32, ('boundary',))\n",
      "hybm       = dataset.createVariable('hybm',     np.float32, ('boundary',))\n",
      "\n",
      "psurf      = dataset.createVariable('sp',       np.float32, ('time', 'latitude', 'longitude',))\n",
      "\n",
      "hyam[:]  = avar[:] # needed to avoid explicit copy\n",
      "hybm[:]  = bvar[:]\n",
      "lon[:]   = lon3[:]\n",
      "lat[:]   = lat3[:]\n",
      "level[:] = level3[:]\n",
      "time[:]  = times2[:]\n",
      "\n",
      "psurf[:,:,:] = input_psurf[:,:,:]\n",
      "\n",
      "# Variable Attributes\n",
      "lat.standard_name = 'latitude'\n",
      "lat.units = 'degrees_north'\n",
      "lat.cartesian_axis = \"Y\"\n",
      "lat.axis = 'Y'\n",
      "lat.actual_range = -90.0, 90.0\n",
      "\n",
      "lon.standard_name = 'longitude'\n",
      "lon.units = 'degrees_east'\n",
      "lon.cartesian_axis = \"X\"\n",
      "lon.axis = \"X\"\n",
      "lat.actual_range = 0.0, 360.0\n",
      "\n",
      "psurf.units = 'Pa'\n",
      "psurf.standard_name='sea_level_pressure'\n",
      "\n",
      "level.units = 'Pa'\n",
      "level.axi='Z'\n",
      "level.positive='up'\n",
      "level.standard_name = 'hybrid_pressure_levels'\n",
      "\n",
      "boundaries.units  = 'Pa'\n",
      "boundaries.standard_name = 'hybrid pressure level boundaries'\n",
      "\n",
      "time.standard_name = 'time'\n",
      "time.long_name = 'time'\n",
      "time.units = 'days since 1999-12-01 00:00:00'\n",
      "time.calendar = '360_day'\n",
      "time.axis = 'T'\n",
      "print ('success')\n",
      "dataset.close()"
     ],
     "language": "python",
     "metadata": {},
     "outputs": []
    },
    {
     "cell_type": "code",
     "collapsed": false,
     "input": [
      "\n",
      "%%sh\n",
      "# this passes\n",
      "ncdump -h /Users/ptg21/data/projects/TRANSCOM/oh_concentration_trop.nc"
     ],
     "language": "python",
     "metadata": {},
     "outputs": []
    },
    {
     "cell_type": "code",
     "collapsed": false,
     "input": [
      "\n",
      "%%sh\n",
      "# this crashes\n",
      "ncdump -h /Users/ptg21/source/scripts/python/ipython_notebooks/test.nc"
     ],
     "language": "python",
     "metadata": {},
     "outputs": []
    },
    {
     "cell_type": "code",
     "collapsed": false,
     "input": [
      "%%sh\n",
      "# this crashes\n",
      "source /Users/ptg21/bin/setup_cfcheck.sh\n",
      "cfchecks test.nc"
     ],
     "language": "python",
     "metadata": {},
     "outputs": []
    },
    {
     "cell_type": "markdown",
     "metadata": {},
     "source": [
      "PLAN\n",
      "----\n",
      "\n",
      "\n",
      "so get the 1x1 data into N96L60 format\n",
      "\n",
      "then for each N96 grid point, produce a function which describes OH as a function of pressure\n",
      "\n",
      "then evaluate this function at the pressures required for L85\n",
      "\n",
      "then write out this to a new file\n",
      "\n",
      "x,y as before\n",
      "z is height\n",
      "field is OH evaluated from the 1d interp\n",
      "\n"
     ]
    },
    {
     "cell_type": "heading",
     "level": 2,
     "metadata": {},
     "source": [
      "Redundant code"
     ]
    },
    {
     "cell_type": "code",
     "collapsed": false,
     "input": [
      "np.meshgrid(lon,lat)\n",
      "plt.contourf(lon,lat,newp[0,0,:,:],[50000,60000,70000,80000,90000,100000,110000])\n",
      "plt.colorbar()"
     ],
     "language": "python",
     "metadata": {},
     "outputs": []
    },
    {
     "cell_type": "code",
     "collapsed": false,
     "input": [
      "#############\n",
      "# plot a, b as function level\n",
      "plt.figure(num=1, figsize=(6,3))\n",
      "plt.subplot(1,2,1)\n",
      "plt.plot(avar)\n",
      "plt.subplot(1,2,2)\n",
      "plt.plot(bvar)"
     ],
     "language": "python",
     "metadata": {},
     "outputs": []
    },
    {
     "cell_type": "code",
     "collapsed": false,
     "input": [
      "###############\n",
      "\n",
      "# Proof of concept for the interpolation step\n",
      "\n",
      "month = 0\n",
      "lat = 0\n",
      "lon = 0\n",
      "\n",
      "x = press[month, :, lat, lon]\n",
      "y = hybrid_ht\n",
      "\n",
      "# generate a 1d interpolation of (pressure, height) - at the lat/lon of interest #\n",
      "interpol_fn=interp1d(x, y, kind='cubic' )\n",
      "\n",
      "# these are the data from which the data are to be interpolated onto\n",
      "xnew = newpress[month, :, lat, lon]\n",
      "\n",
      "# generate interpolated height data corresponding to the pressures in the required L60 ancilliary\n",
      "interpold_data  = np.zeros((0),float)\n",
      "for i in range(0,len(xnew)):\n",
      "    interpold_data  = np.append(interpold_data,[interpol_fn.__call__(xnew[i])],axis=0)\n",
      "    \n",
      "# check the data are of the correct size\n",
      "print(np.shape(x),np.shape(interpold_data))\n",
      "# produce a confirmation plot\n",
      "plt.plot(x,y)\n",
      "plt.plot(xnew,interpold_data,'o')"
     ],
     "language": "python",
     "metadata": {},
     "outputs": []
    },
    {
     "cell_type": "code",
     "collapsed": false,
     "input": [
      "%%bash\n",
      "ncdump -h /Users/ptg21/data/TRANSCOM/oh_concentration_trop.nc"
     ],
     "language": "python",
     "metadata": {},
     "outputs": []
    },
    {
     "cell_type": "markdown",
     "metadata": {},
     "source": [
      "FIGURES FOR EVERNOTE"
     ]
    },
    {
     "cell_type": "code",
     "collapsed": false,
     "input": [
      "print (psurf[0,0,0], lat4[0],lon4[0]) \n",
      "print (press[0,0,0,0],lat2[0],lon2[0])\n",
      "\n",
      "plt.plot(input_midpt_press[0,0:9,0,0])\n",
      "plt.plot(press[0,0:9,0,0],'--')"
     ],
     "language": "python",
     "metadata": {},
     "outputs": []
    }
   ],
   "metadata": {}
  }
 ]
}