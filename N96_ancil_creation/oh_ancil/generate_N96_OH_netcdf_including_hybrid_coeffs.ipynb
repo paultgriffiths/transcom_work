{
 "metadata": {
  "name": "",
  "signature": "sha256:ad22937ce857eb8c180998f17c87496c367007d2993d42f60b7b39b0f541393d"
 },
 "nbformat": 3,
 "nbformat_minor": 0,
 "worksheets": [
  {
   "cells": [
    {
     "cell_type": "code",
     "collapsed": false,
     "input": [
      "# This script generates data suitable for use in the ncl interpolation function"
     ],
     "language": "python",
     "metadata": {},
     "outputs": []
    },
    {
     "cell_type": "code",
     "collapsed": false,
     "input": [
      "from IPython.core.display import HTML\n",
      "def css_styling():\n",
      "    styles = open(\"custom.css\", \"r\").read()\n",
      "    return HTML(styles)\n",
      "css_styling()"
     ],
     "language": "python",
     "metadata": {},
     "outputs": [
      {
       "html": [
        "<style>\n",
        "    div.cell{\n",
        "        width:100%;\n",
        "        margin-left:1%;\n",
        "        margin-right:auto;\n",
        "    }\n",
        "</style>\n"
       ],
       "metadata": {},
       "output_type": "pyout",
       "prompt_number": 1,
       "text": [
        "<IPython.core.display.HTML at 0x1037e4490>"
       ]
      }
     ],
     "prompt_number": 1
    },
    {
     "cell_type": "code",
     "collapsed": false,
     "input": [
      "from matplotlib import pyplot as plt\n",
      "from mpl_toolkits.basemap import Basemap, shiftgrid, cm\n",
      "import pandas as pd\n",
      "import numpy as np\n",
      "import netCDF4\n",
      "from matplotlib.ticker import MultipleLocator\n",
      "from scipy.interpolate import *"
     ],
     "language": "python",
     "metadata": {},
     "outputs": [
      {
       "output_type": "stream",
       "stream": "stderr",
       "text": [
        "/Users/ptg21/Library/Enthought/Canopy_64bit/User/lib/python2.7/site-packages/mpl_toolkits/__init__.py:2: UserWarning: Module argparse was already imported from /Applications/Canopy.app/appdata/canopy-1.4.1.1975.macosx-x86_64/Canopy.app/Contents/lib/python2.7/argparse.pyc, but /Users/ptg21/Library/Enthought/Canopy_64bit/User/lib/python2.7/site-packages is being added to sys.path\n",
        "  __import__('pkg_resources').declare_namespace(__name__)\n"
       ]
      }
     ],
     "prompt_number": 2
    },
    {
     "cell_type": "code",
     "collapsed": false,
     "input": [
      "%matplotlib inline"
     ],
     "language": "python",
     "metadata": {},
     "outputs": [],
     "prompt_number": 3
    },
    {
     "cell_type": "code",
     "collapsed": false,
     "input": [
      "filename='/Users/ptg21/data/projects/TRANSCOM/oh_concentration_trop_N96_regrid.nc'\n",
      "ncfile1    = netCDF4.Dataset(filename)\n",
      "lon1        = ncfile1.variables['longitude'][:]\n",
      "lat1        = ncfile1.variables['latitude'][:]\n",
      "level1      = ncfile1.variables['LEVEL'][:]\n",
      "times1      = ncfile1.variables['TIME']\n",
      "OHfield     = ncfile1.variables['OH'][:,:,:,:]\n",
      "nmonths, nlevels, ny1, nx1 = np.shape(OHfield)\n",
      "nboundaries = nlevels + 1\n",
      "nx1 = len(lon1)\n",
      "ny1 = len(lat1)"
     ],
     "language": "python",
     "metadata": {},
     "outputs": [],
     "prompt_number": 4
    },
    {
     "cell_type": "code",
     "collapsed": false,
     "input": [
      "#figure out how to create an nc file with given times\n",
      "# make it cf compliant\n",
      "# make sure nc view can read it\n"
     ],
     "language": "python",
     "metadata": {},
     "outputs": [],
     "prompt_number": 5
    },
    {
     "cell_type": "code",
     "collapsed": false,
     "input": [
      "# get levelp1, a, b variables for use in calc of level boundary pressures\n",
      "filename='/Users/ptg21/data/projects/TRANSCOM/oh_concentration_trop.nc'\n",
      "ncfile3    = netCDF4.Dataset(filename)\n",
      "levelp1    = ncfile3.variables['LEVELP1'][:]\n",
      "avar       = ncfile3.variables['A'][:]\n",
      "bvar       = ncfile3.variables['B'][:]\n",
      "lon3        = ncfile3.variables['LONGITUDE'][:]\n",
      "lat3        = ncfile3.variables['LATITUDE'][:]\n",
      "levels3      = ncfile3.variables['LEVEL'][:]\n",
      "\n",
      "# get psurf needed for same\n",
      "filename='/Users/ptg21/data/projects/TRANSCOM/oh_concentration_trop_psurf_N96_regrid.nc'\n",
      "ncfile4    = netCDF4.Dataset(filename)\n",
      "\n",
      "lon4        = ncfile4.variables['longitude'][:]\n",
      "lat4        = ncfile4.variables['latitude'][:]\n",
      "psurfin      = ncfile4.variables['PSURF'][:]\n",
      "ntimes4, ny4, nx4   = np.shape(psurfin)\n"
     ],
     "language": "python",
     "metadata": {},
     "outputs": [],
     "prompt_number": 6
    },
    {
     "cell_type": "code",
     "collapsed": false,
     "input": [
      "%%bash\n",
      "rm test.nc"
     ],
     "language": "python",
     "metadata": {},
     "outputs": [],
     "prompt_number": 10
    },
    {
     "cell_type": "code",
     "collapsed": false,
     "input": [
      "# to be fixed\n",
      "\n",
      "from netCDF4 import Dataset\n",
      "import time\n",
      "# Create HDF5 *format*, classic *model*\n",
      "dataset = Dataset('test.nc', 'w', format='NETCDF4')\n",
      "\n",
      "# Global Attributes\n",
      "dataset.description = 'TEST NETCDF-CF COMPLIANT SCRIPT'\n",
      "dataset.history = 'Created ' + time.ctime(time.time())\n",
      "dataset.source = ''\n",
      "dataset.Conventions = 'CF-1.0'\n",
      "dataset.standard_name_vocabulary='CF-1.0'\n",
      "\n",
      "level = dataset.createDimension('level', nlevels)\n",
      "boundaries = dataset.createDimension('boundary', nlevels+1)\n",
      "\n",
      "time  = dataset.createDimension('time',      None)\n",
      "time  = dataset.createVariable('time',       'f8', ('time',)) # or can use np as below\n",
      "\n",
      "lat   = dataset.createDimension('latitude',  ny4)\n",
      "lat   = dataset.createVariable('latitude',   np.float32, ('latitude',))\n",
      "\n",
      "lon   = dataset.createDimension('longitude', nx4)\n",
      "lon   = dataset.createVariable('longitude',  np.float32, ('longitude',))\n",
      "\n",
      "level      = dataset.createVariable('level',    np.int32,   ('level',))\n",
      "\n",
      "\n",
      "\n",
      "boundaries = dataset.createVariable('boundary', np.int32,   ('boundary',))\n",
      "\n",
      "hyam       = dataset.createVariable('hyam',     np.float32, ('boundary',))\n",
      "hybm       = dataset.createVariable('hybm',     np.float32, ('boundary',))\n",
      "\n",
      "psurf      = dataset.createVariable('sp',       np.float32, ('time',          'latitude', 'longitude',))\n",
      "OH         = dataset.createVariable('OH',       np.float32, ('time', 'level', 'latitude', 'longitude',))\n",
      "\n",
      "\n",
      "hyam[:]  = avar[:] # needed to avoid explicit copy\n",
      "hybm[:]  = bvar[:]\n",
      "lon[:]   = lon1[:]\n",
      "lat[:]   = lat1[:]\n",
      "level[:] = levels3[:]\n",
      "time[:]  = times1[:]\n",
      "\n",
      "psurf[:,:,:] = psurfin[:,:,:]\n",
      "OH[:,:,:,:] = OHfield[:,:,:]\n",
      "\n",
      "# Variable Attributes\n",
      "lat.standard_name = 'latitude'\n",
      "lat.units = 'degrees_north'\n",
      "lat.cartesian_axis = \"Y\"\n",
      "lat.axis = 'Y'\n",
      "lat.actual_range = -90.0, 90.0\n",
      "\n",
      "lon.standard_name = 'longitude'\n",
      "lon.units = 'degrees_east'\n",
      "lon.cartesian_axis = \"X\"\n",
      "lon.axis = \"X\"\n",
      "lat.actual_range = 0.0, 360.0\n",
      "\n",
      "psurf.units = 'Pa'\n",
      "psurf.standard_name='sea_level_pressure'\n",
      "\n",
      "OH.units = 'molecules / cm3'\n",
      "OH.standard_name='OH concentration'\n",
      "\n",
      "level.units = 'Pa'\n",
      "level.axi='Z'\n",
      "level.positive='up'\n",
      "level.standard_name = 'hybrid_pressure_levels'\n",
      "\n",
      "boundaries.units  = 'Pa'\n",
      "boundaries.standard_name = 'hybrid pressure level boundaries'\n",
      "\n",
      "time.standard_name = 'time'\n",
      "time.long_name = 'time'\n",
      "time.units = 'days since 1999-12-01 00:00:00'\n",
      "time.calendar = '360_day'\n",
      "time.axis = 'T'\n",
      "print ('success')\n",
      "dataset.close()"
     ],
     "language": "python",
     "metadata": {},
     "outputs": [
      {
       "output_type": "stream",
       "stream": "stdout",
       "text": [
        "success\n"
       ]
      }
     ],
     "prompt_number": 11
    },
    {
     "cell_type": "code",
     "collapsed": false,
     "input": [],
     "language": "python",
     "metadata": {},
     "outputs": []
    }
   ],
   "metadata": {}
  }
 ]
}